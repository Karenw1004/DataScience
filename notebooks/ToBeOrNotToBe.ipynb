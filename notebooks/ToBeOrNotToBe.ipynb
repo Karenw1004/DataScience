{
 "cells": [
  {
   "cell_type": "markdown",
   "metadata": {},
   "source": [
    "# EECS731\n",
    "## Project 2 - ToBeOrNotToBe\n",
    "\n",
    "Classy Shakespeare plays and players\n",
    "\n",
    "1. Set up a data science project structure in a new git repository in your GitHub account\n",
    "2. Download the Shakespeare plays dataset from https://www.kaggle.com/kingburrito666/shakespeare-plays\n",
    "3. Load the data set into panda data frames\n",
    "4. Formulate one or two ideas on how feature engineering would help the data set to establish additional value using exploratory data analysis\n",
    "5. Build one or more classification models to determine the player using the other columns as features\n",
    "6. Document your process and results\n",
    "7. Commit your notebook, source code, visualizations and other supporting files to the git repository in GitHub\n",
    "<br>\n",
    "***"
   ]
  },
  {
   "cell_type": "code",
   "execution_count": 1,
   "metadata": {
    "ExecuteTime": {
     "end_time": "2020-09-21T21:09:19.075683Z",
     "start_time": "2020-09-21T21:09:03.946191Z"
    }
   },
   "outputs": [
    {
     "name": "stderr",
     "output_type": "stream",
     "text": [
      "[nltk_data] Downloading package stopwords to /home/karen/nltk_data...\n",
      "[nltk_data]   Package stopwords is already up-to-date!\n",
      "[nltk_data] Downloading package punkt to /home/karen/nltk_data...\n",
      "[nltk_data]   Package punkt is already up-to-date!\n"
     ]
    }
   ],
   "source": [
    "from warnings import filterwarnings\n",
    "filterwarnings('ignore')\n",
    "\n",
    "from pandas import read_csv, concat, get_dummies\n",
    "\n",
    "# plots\n",
    "from matplotlib.pyplot import figure , imshow, axis, show\n",
    "from seaborn import heatmap\n",
    "from wordcloud import WordCloud, STOPWORDS\n",
    "\n",
    "# Feature selection and engineering\n",
    "from sklearn.preprocessing import LabelEncoder\n",
    "from sklearn.feature_extraction.text import CountVectorizer\n",
    "from nltk import tokenize, FreqDist, corpus\n",
    "import nltk\n",
    "nltk.download(\"stopwords\")\n",
    "nltk.download(\"punkt\")\n",
    "from scipy.sparse import csr_matrix, hstack\n",
    "from keras.preprocessing.text import text_to_word_sequence\n",
    "from keras.preprocessing.text import Tokenizer\n",
    "\n",
    "# models\n",
    "from sklearn.tree import DecisionTreeClassifier\n",
    "from sklearn.discriminant_analysis import LinearDiscriminantAnalysis\n",
    "from sklearn.ensemble import RandomForestClassifier\n",
    "from sklearn.neighbors import KNeighborsClassifier\n",
    "from sklearn.naive_bayes import GaussianNB\n",
    "\n",
    "# model selection\n",
    "from sklearn.model_selection import train_test_split\n",
    "from sklearn.model_selection import cross_val_predict\n",
    "from sklearn.model_selection import StratifiedKFold\n",
    "\n",
    "# make predictions\n",
    "from sklearn.metrics import accuracy_score"
   ]
  },
  {
   "cell_type": "code",
   "execution_count": 2,
   "metadata": {
    "ExecuteTime": {
     "end_time": "2020-09-21T21:09:19.630724Z",
     "start_time": "2020-09-21T21:09:19.079250Z"
    },
    "scrolled": true
   },
   "outputs": [
    {
     "data": {
      "text/html": [
       "<div>\n",
       "<style scoped>\n",
       "    .dataframe tbody tr th:only-of-type {\n",
       "        vertical-align: middle;\n",
       "    }\n",
       "\n",
       "    .dataframe tbody tr th {\n",
       "        vertical-align: top;\n",
       "    }\n",
       "\n",
       "    .dataframe thead th {\n",
       "        text-align: right;\n",
       "    }\n",
       "</style>\n",
       "<table border=\"1\" class=\"dataframe\">\n",
       "  <thead>\n",
       "    <tr style=\"text-align: right;\">\n",
       "      <th></th>\n",
       "      <th>Dataline</th>\n",
       "      <th>Play</th>\n",
       "      <th>PlayerLinenumber</th>\n",
       "      <th>ActSceneLine</th>\n",
       "      <th>Player</th>\n",
       "      <th>PlayerLine</th>\n",
       "    </tr>\n",
       "  </thead>\n",
       "  <tbody>\n",
       "    <tr>\n",
       "      <th>0</th>\n",
       "      <td>1</td>\n",
       "      <td>Henry IV</td>\n",
       "      <td>NaN</td>\n",
       "      <td>NaN</td>\n",
       "      <td>NaN</td>\n",
       "      <td>ACT I</td>\n",
       "    </tr>\n",
       "    <tr>\n",
       "      <th>1</th>\n",
       "      <td>2</td>\n",
       "      <td>Henry IV</td>\n",
       "      <td>NaN</td>\n",
       "      <td>NaN</td>\n",
       "      <td>NaN</td>\n",
       "      <td>SCENE I. London. The palace.</td>\n",
       "    </tr>\n",
       "    <tr>\n",
       "      <th>2</th>\n",
       "      <td>3</td>\n",
       "      <td>Henry IV</td>\n",
       "      <td>NaN</td>\n",
       "      <td>NaN</td>\n",
       "      <td>NaN</td>\n",
       "      <td>Enter KING HENRY, LORD JOHN OF LANCASTER, the ...</td>\n",
       "    </tr>\n",
       "    <tr>\n",
       "      <th>3</th>\n",
       "      <td>4</td>\n",
       "      <td>Henry IV</td>\n",
       "      <td>1.0</td>\n",
       "      <td>1.1.1</td>\n",
       "      <td>KING HENRY IV</td>\n",
       "      <td>So shaken as we are, so wan with care,</td>\n",
       "    </tr>\n",
       "    <tr>\n",
       "      <th>4</th>\n",
       "      <td>5</td>\n",
       "      <td>Henry IV</td>\n",
       "      <td>1.0</td>\n",
       "      <td>1.1.2</td>\n",
       "      <td>KING HENRY IV</td>\n",
       "      <td>Find we a time for frighted peace to pant,</td>\n",
       "    </tr>\n",
       "  </tbody>\n",
       "</table>\n",
       "</div>"
      ],
      "text/plain": [
       "   Dataline      Play  PlayerLinenumber ActSceneLine         Player  \\\n",
       "0         1  Henry IV               NaN          NaN            NaN   \n",
       "1         2  Henry IV               NaN          NaN            NaN   \n",
       "2         3  Henry IV               NaN          NaN            NaN   \n",
       "3         4  Henry IV               1.0        1.1.1  KING HENRY IV   \n",
       "4         5  Henry IV               1.0        1.1.2  KING HENRY IV   \n",
       "\n",
       "                                          PlayerLine  \n",
       "0                                              ACT I  \n",
       "1                       SCENE I. London. The palace.  \n",
       "2  Enter KING HENRY, LORD JOHN OF LANCASTER, the ...  \n",
       "3             So shaken as we are, so wan with care,  \n",
       "4         Find we a time for frighted peace to pant,  "
      ]
     },
     "execution_count": 2,
     "metadata": {},
     "output_type": "execute_result"
    }
   ],
   "source": [
    "df = read_csv(\"../data/Shakespeare_data.csv\")\n",
    "df.head()"
   ]
  },
  {
   "cell_type": "code",
   "execution_count": 3,
   "metadata": {
    "ExecuteTime": {
     "end_time": "2020-09-21T21:09:19.724266Z",
     "start_time": "2020-09-21T21:09:19.642677Z"
    },
    "scrolled": true
   },
   "outputs": [
    {
     "name": "stdout",
     "output_type": "stream",
     "text": [
      "<class 'pandas.core.frame.DataFrame'>\n",
      "RangeIndex: 111396 entries, 0 to 111395\n",
      "Data columns (total 6 columns):\n",
      " #   Column            Non-Null Count   Dtype  \n",
      "---  ------            --------------   -----  \n",
      " 0   Dataline          111396 non-null  int64  \n",
      " 1   Play              111396 non-null  object \n",
      " 2   PlayerLinenumber  111393 non-null  float64\n",
      " 3   ActSceneLine      105153 non-null  object \n",
      " 4   Player            111389 non-null  object \n",
      " 5   PlayerLine        111396 non-null  object \n",
      "dtypes: float64(1), int64(1), object(4)\n",
      "memory usage: 5.1+ MB\n"
     ]
    }
   ],
   "source": [
    "df.info()"
   ]
  },
  {
   "cell_type": "markdown",
   "metadata": {},
   "source": [
    "***Let's look deeper at the datasets given***<br>\n",
    "*column_name (type of column) \n",
    "    - description*\n",
    "\n",
    "The shakespeare dataset contains the following columns :\n",
    "- Dataline (int) ***seems useless***\n",
    "    - A unique id for each line.\n",
    "- Play (str) \n",
    "    - Name of the play where the lines are from\n",
    "- PlayerLineNumber (int) \n",
    "    - The real line number that are being spoken \n",
    "    - Difference with ActSceneLine's Line\n",
    "        - PlayerLineNumber is one whole long sentence and the ActSceneLine is the small cut part of PlayerLineNumber\n",
    "        - PlayerLinenNumber resets in new scene\n",
    "- ActSceneLine (str) \n",
    "    - Comes in 1.1.1 (Act is 1, Scene is 1, Line is 1)\n",
    "    - ***Seperating them will be easier to use***\n",
    "- Player (str)\n",
    "    - The character name in the play\n",
    "- PlayerLine (str)\n",
    "    - The line spoken by the player \n",
    "<br><br>\n",
    "\n",
    "- There seems to be a narrator ***problem***\n",
    "***\n",
    "## To determine the player using the other columns as features\n",
    "We want to use the player column and find out if the line belongs to the player. ***(Predict what the player says depending on their lines)***\n",
    "## Feature Engineering\n",
    "- Transformation\n",
    "    - 2. Play and player (make sure they are string first) needs to use one-hot encoding and label encoding\n",
    "    - 5. Change all word in the PlayerLine to be lowercase and delete all punctuations.\n",
    "    - 6. Bag of words playerline column \n",
    "- Selection\n",
    "    - 3. Remove dataline\n",
    "    - 1. Remove speech by narrator (We have to determine when the narrator speaks)\n",
    "- Extraction\n",
    "    - 4. Seperate ActSceneLine. Then delete ActSceneLine\n",
    "\n",
    "*NOTE: The number is the order of how I did it*"
   ]
  },
  {
   "cell_type": "markdown",
   "metadata": {},
   "source": [
    "***How do I know which line belongs to the narrator?***"
   ]
  },
  {
   "cell_type": "code",
   "execution_count": 4,
   "metadata": {
    "ExecuteTime": {
     "end_time": "2020-09-21T21:09:19.766711Z",
     "start_time": "2020-09-21T21:09:19.731475Z"
    },
    "scrolled": false
   },
   "outputs": [
    {
     "data": {
      "text/html": [
       "<div>\n",
       "<style scoped>\n",
       "    .dataframe tbody tr th:only-of-type {\n",
       "        vertical-align: middle;\n",
       "    }\n",
       "\n",
       "    .dataframe tbody tr th {\n",
       "        vertical-align: top;\n",
       "    }\n",
       "\n",
       "    .dataframe thead th {\n",
       "        text-align: right;\n",
       "    }\n",
       "</style>\n",
       "<table border=\"1\" class=\"dataframe\">\n",
       "  <thead>\n",
       "    <tr style=\"text-align: right;\">\n",
       "      <th></th>\n",
       "      <th>Dataline</th>\n",
       "      <th>Play</th>\n",
       "      <th>PlayerLinenumber</th>\n",
       "      <th>ActSceneLine</th>\n",
       "      <th>Player</th>\n",
       "      <th>PlayerLine</th>\n",
       "    </tr>\n",
       "  </thead>\n",
       "  <tbody>\n",
       "    <tr>\n",
       "      <th>0</th>\n",
       "      <td>1</td>\n",
       "      <td>Henry IV</td>\n",
       "      <td>NaN</td>\n",
       "      <td>NaN</td>\n",
       "      <td>NaN</td>\n",
       "      <td>ACT I</td>\n",
       "    </tr>\n",
       "    <tr>\n",
       "      <th>1</th>\n",
       "      <td>2</td>\n",
       "      <td>Henry IV</td>\n",
       "      <td>NaN</td>\n",
       "      <td>NaN</td>\n",
       "      <td>NaN</td>\n",
       "      <td>SCENE I. London. The palace.</td>\n",
       "    </tr>\n",
       "    <tr>\n",
       "      <th>2</th>\n",
       "      <td>3</td>\n",
       "      <td>Henry IV</td>\n",
       "      <td>NaN</td>\n",
       "      <td>NaN</td>\n",
       "      <td>NaN</td>\n",
       "      <td>Enter KING HENRY, LORD JOHN OF LANCASTER, the ...</td>\n",
       "    </tr>\n",
       "  </tbody>\n",
       "</table>\n",
       "</div>"
      ],
      "text/plain": [
       "   Dataline      Play  PlayerLinenumber ActSceneLine Player  \\\n",
       "0         1  Henry IV               NaN          NaN    NaN   \n",
       "1         2  Henry IV               NaN          NaN    NaN   \n",
       "2         3  Henry IV               NaN          NaN    NaN   \n",
       "\n",
       "                                          PlayerLine  \n",
       "0                                              ACT I  \n",
       "1                       SCENE I. London. The palace.  \n",
       "2  Enter KING HENRY, LORD JOHN OF LANCASTER, the ...  "
      ]
     },
     "execution_count": 4,
     "metadata": {},
     "output_type": "execute_result"
    }
   ],
   "source": [
    "df.head(3)"
   ]
  },
  {
   "cell_type": "code",
   "execution_count": 5,
   "metadata": {
    "ExecuteTime": {
     "end_time": "2020-09-21T21:09:19.818652Z",
     "start_time": "2020-09-21T21:09:19.774914Z"
    },
    "scrolled": true
   },
   "outputs": [
    {
     "data": {
      "text/html": [
       "<div>\n",
       "<style scoped>\n",
       "    .dataframe tbody tr th:only-of-type {\n",
       "        vertical-align: middle;\n",
       "    }\n",
       "\n",
       "    .dataframe tbody tr th {\n",
       "        vertical-align: top;\n",
       "    }\n",
       "\n",
       "    .dataframe thead th {\n",
       "        text-align: right;\n",
       "    }\n",
       "</style>\n",
       "<table border=\"1\" class=\"dataframe\">\n",
       "  <thead>\n",
       "    <tr style=\"text-align: right;\">\n",
       "      <th></th>\n",
       "      <th>Dataline</th>\n",
       "      <th>Play</th>\n",
       "      <th>PlayerLinenumber</th>\n",
       "      <th>ActSceneLine</th>\n",
       "      <th>Player</th>\n",
       "      <th>PlayerLine</th>\n",
       "    </tr>\n",
       "  </thead>\n",
       "  <tbody>\n",
       "    <tr>\n",
       "      <th>111</th>\n",
       "      <td>112</td>\n",
       "      <td>Henry IV</td>\n",
       "      <td>10.0</td>\n",
       "      <td>NaN</td>\n",
       "      <td>WESTMORELAND</td>\n",
       "      <td>Exeunt</td>\n",
       "    </tr>\n",
       "    <tr>\n",
       "      <th>112</th>\n",
       "      <td>113</td>\n",
       "      <td>Henry IV</td>\n",
       "      <td>10.0</td>\n",
       "      <td>NaN</td>\n",
       "      <td>WESTMORELAND</td>\n",
       "      <td>SCENE II. London. An apartment of the Prince's.</td>\n",
       "    </tr>\n",
       "    <tr>\n",
       "      <th>113</th>\n",
       "      <td>114</td>\n",
       "      <td>Henry IV</td>\n",
       "      <td>10.0</td>\n",
       "      <td>NaN</td>\n",
       "      <td>WESTMORELAND</td>\n",
       "      <td>Enter the PRINCE OF WALES and FALSTAFF</td>\n",
       "    </tr>\n",
       "  </tbody>\n",
       "</table>\n",
       "</div>"
      ],
      "text/plain": [
       "     Dataline      Play  PlayerLinenumber ActSceneLine        Player  \\\n",
       "111       112  Henry IV              10.0          NaN  WESTMORELAND   \n",
       "112       113  Henry IV              10.0          NaN  WESTMORELAND   \n",
       "113       114  Henry IV              10.0          NaN  WESTMORELAND   \n",
       "\n",
       "                                          PlayerLine  \n",
       "111                                           Exeunt  \n",
       "112  SCENE II. London. An apartment of the Prince's.  \n",
       "113           Enter the PRINCE OF WALES and FALSTAFF  "
      ]
     },
     "execution_count": 5,
     "metadata": {},
     "output_type": "execute_result"
    }
   ],
   "source": [
    "df.iloc[[111,112,113],:]"
   ]
  },
  {
   "cell_type": "markdown",
   "metadata": {
    "ExecuteTime": {
     "end_time": "2020-09-21T10:27:08.206683Z",
     "start_time": "2020-09-21T10:27:08.202336Z"
    }
   },
   "source": [
    "By looking at the 2 output of dataset , narrator is when \n",
    "- ActSceneLine is NaN or \n",
    "- Player is NaN or\n",
    "- PlayerLineNumber is NaN"
   ]
  },
  {
   "cell_type": "code",
   "execution_count": 6,
   "metadata": {
    "ExecuteTime": {
     "end_time": "2020-09-21T21:09:19.941958Z",
     "start_time": "2020-09-21T21:09:19.827417Z"
    }
   },
   "outputs": [
    {
     "data": {
      "text/html": [
       "<div>\n",
       "<style scoped>\n",
       "    .dataframe tbody tr th:only-of-type {\n",
       "        vertical-align: middle;\n",
       "    }\n",
       "\n",
       "    .dataframe tbody tr th {\n",
       "        vertical-align: top;\n",
       "    }\n",
       "\n",
       "    .dataframe thead th {\n",
       "        text-align: right;\n",
       "    }\n",
       "</style>\n",
       "<table border=\"1\" class=\"dataframe\">\n",
       "  <thead>\n",
       "    <tr style=\"text-align: right;\">\n",
       "      <th></th>\n",
       "      <th>Dataline</th>\n",
       "      <th>Play</th>\n",
       "      <th>PlayerLinenumber</th>\n",
       "      <th>ActSceneLine</th>\n",
       "      <th>Player</th>\n",
       "      <th>PlayerLine</th>\n",
       "    </tr>\n",
       "  </thead>\n",
       "  <tbody>\n",
       "    <tr>\n",
       "      <th>0</th>\n",
       "      <td>4</td>\n",
       "      <td>Henry IV</td>\n",
       "      <td>1.0</td>\n",
       "      <td>1.1.1</td>\n",
       "      <td>KING HENRY IV</td>\n",
       "      <td>So shaken as we are, so wan with care,</td>\n",
       "    </tr>\n",
       "    <tr>\n",
       "      <th>1</th>\n",
       "      <td>5</td>\n",
       "      <td>Henry IV</td>\n",
       "      <td>1.0</td>\n",
       "      <td>1.1.2</td>\n",
       "      <td>KING HENRY IV</td>\n",
       "      <td>Find we a time for frighted peace to pant,</td>\n",
       "    </tr>\n",
       "    <tr>\n",
       "      <th>2</th>\n",
       "      <td>6</td>\n",
       "      <td>Henry IV</td>\n",
       "      <td>1.0</td>\n",
       "      <td>1.1.3</td>\n",
       "      <td>KING HENRY IV</td>\n",
       "      <td>And breathe short-winded accents of new broils</td>\n",
       "    </tr>\n",
       "    <tr>\n",
       "      <th>3</th>\n",
       "      <td>7</td>\n",
       "      <td>Henry IV</td>\n",
       "      <td>1.0</td>\n",
       "      <td>1.1.4</td>\n",
       "      <td>KING HENRY IV</td>\n",
       "      <td>To be commenced in strands afar remote.</td>\n",
       "    </tr>\n",
       "    <tr>\n",
       "      <th>4</th>\n",
       "      <td>8</td>\n",
       "      <td>Henry IV</td>\n",
       "      <td>1.0</td>\n",
       "      <td>1.1.5</td>\n",
       "      <td>KING HENRY IV</td>\n",
       "      <td>No more the thirsty entrance of this soil</td>\n",
       "    </tr>\n",
       "  </tbody>\n",
       "</table>\n",
       "</div>"
      ],
      "text/plain": [
       "   Dataline      Play  PlayerLinenumber ActSceneLine         Player  \\\n",
       "0         4  Henry IV               1.0        1.1.1  KING HENRY IV   \n",
       "1         5  Henry IV               1.0        1.1.2  KING HENRY IV   \n",
       "2         6  Henry IV               1.0        1.1.3  KING HENRY IV   \n",
       "3         7  Henry IV               1.0        1.1.4  KING HENRY IV   \n",
       "4         8  Henry IV               1.0        1.1.5  KING HENRY IV   \n",
       "\n",
       "                                       PlayerLine  \n",
       "0          So shaken as we are, so wan with care,  \n",
       "1      Find we a time for frighted peace to pant,  \n",
       "2  And breathe short-winded accents of new broils  \n",
       "3         To be commenced in strands afar remote.  \n",
       "4       No more the thirsty entrance of this soil  "
      ]
     },
     "execution_count": 6,
     "metadata": {},
     "output_type": "execute_result"
    }
   ],
   "source": [
    "# If any of columns in the subset list is NaN, we drop the row\n",
    "df.dropna(subset=[\"ActSceneLine\",\"Player\",\"PlayerLinenumber\"],inplace=True)\n",
    "df.reset_index(drop=True,inplace=True)\n",
    "df.head()"
   ]
  },
  {
   "cell_type": "markdown",
   "metadata": {
    "ExecuteTime": {
     "end_time": "2020-09-21T10:12:56.549221Z",
     "start_time": "2020-09-21T10:12:56.545110Z"
    }
   },
   "source": [
    "***Let's use Label Encoding for play and player and make sure they are type str*** <br>\n",
    "*NOTE: Label Encoding will turn [dog,cat,dog,mouse,cat] into [1,2,1,3,2]* <br> "
   ]
  },
  {
   "cell_type": "code",
   "execution_count": 7,
   "metadata": {
    "ExecuteTime": {
     "end_time": "2020-09-21T21:09:20.268444Z",
     "start_time": "2020-09-21T21:09:19.963737Z"
    },
    "scrolled": true
   },
   "outputs": [
    {
     "data": {
      "text/html": [
       "<div>\n",
       "<style scoped>\n",
       "    .dataframe tbody tr th:only-of-type {\n",
       "        vertical-align: middle;\n",
       "    }\n",
       "\n",
       "    .dataframe tbody tr th {\n",
       "        vertical-align: top;\n",
       "    }\n",
       "\n",
       "    .dataframe thead th {\n",
       "        text-align: right;\n",
       "    }\n",
       "</style>\n",
       "<table border=\"1\" class=\"dataframe\">\n",
       "  <thead>\n",
       "    <tr style=\"text-align: right;\">\n",
       "      <th></th>\n",
       "      <th>Dataline</th>\n",
       "      <th>Play</th>\n",
       "      <th>PlayerLinenumber</th>\n",
       "      <th>ActSceneLine</th>\n",
       "      <th>Player</th>\n",
       "      <th>PlayerLine</th>\n",
       "    </tr>\n",
       "  </thead>\n",
       "  <tbody>\n",
       "    <tr>\n",
       "      <th>0</th>\n",
       "      <td>4</td>\n",
       "      <td>9</td>\n",
       "      <td>1.0</td>\n",
       "      <td>1.1.1</td>\n",
       "      <td>457</td>\n",
       "      <td>So shaken as we are, so wan with care,</td>\n",
       "    </tr>\n",
       "    <tr>\n",
       "      <th>1</th>\n",
       "      <td>5</td>\n",
       "      <td>9</td>\n",
       "      <td>1.0</td>\n",
       "      <td>1.1.2</td>\n",
       "      <td>457</td>\n",
       "      <td>Find we a time for frighted peace to pant,</td>\n",
       "    </tr>\n",
       "    <tr>\n",
       "      <th>2</th>\n",
       "      <td>6</td>\n",
       "      <td>9</td>\n",
       "      <td>1.0</td>\n",
       "      <td>1.1.3</td>\n",
       "      <td>457</td>\n",
       "      <td>And breathe short-winded accents of new broils</td>\n",
       "    </tr>\n",
       "    <tr>\n",
       "      <th>3</th>\n",
       "      <td>7</td>\n",
       "      <td>9</td>\n",
       "      <td>1.0</td>\n",
       "      <td>1.1.4</td>\n",
       "      <td>457</td>\n",
       "      <td>To be commenced in strands afar remote.</td>\n",
       "    </tr>\n",
       "    <tr>\n",
       "      <th>4</th>\n",
       "      <td>8</td>\n",
       "      <td>9</td>\n",
       "      <td>1.0</td>\n",
       "      <td>1.1.5</td>\n",
       "      <td>457</td>\n",
       "      <td>No more the thirsty entrance of this soil</td>\n",
       "    </tr>\n",
       "  </tbody>\n",
       "</table>\n",
       "</div>"
      ],
      "text/plain": [
       "   Dataline  Play  PlayerLinenumber ActSceneLine  Player  \\\n",
       "0         4     9               1.0        1.1.1     457   \n",
       "1         5     9               1.0        1.1.2     457   \n",
       "2         6     9               1.0        1.1.3     457   \n",
       "3         7     9               1.0        1.1.4     457   \n",
       "4         8     9               1.0        1.1.5     457   \n",
       "\n",
       "                                       PlayerLine  \n",
       "0          So shaken as we are, so wan with care,  \n",
       "1      Find we a time for frighted peace to pant,  \n",
       "2  And breathe short-winded accents of new broils  \n",
       "3         To be commenced in strands afar remote.  \n",
       "4       No more the thirsty entrance of this soil  "
      ]
     },
     "execution_count": 7,
     "metadata": {},
     "output_type": "execute_result"
    }
   ],
   "source": [
    "# Label Encoding for play and player and make sure str\n",
    "df['Play'] = LabelEncoder().fit_transform(df['Play'].astype(str))\n",
    "df['Player'] = LabelEncoder().fit_transform(df['Player'].astype(str))\n",
    "\n",
    "df.head()"
   ]
  },
  {
   "cell_type": "markdown",
   "metadata": {
    "ExecuteTime": {
     "end_time": "2020-09-21T10:01:37.160803Z",
     "start_time": "2020-09-21T10:01:37.157375Z"
    }
   },
   "source": [
    "After changing them to label, we should change see if there is any correlation between features to player"
   ]
  },
  {
   "cell_type": "code",
   "execution_count": 8,
   "metadata": {
    "ExecuteTime": {
     "end_time": "2020-09-21T21:09:21.474972Z",
     "start_time": "2020-09-21T21:09:20.281165Z"
    },
    "scrolled": false
   },
   "outputs": [
    {
     "data": {
      "text/plain": [
       "<AxesSubplot:>"
      ]
     },
     "execution_count": 8,
     "metadata": {},
     "output_type": "execute_result"
    },
    {
     "data": {
      "image/png": "[encoded data removed]",
      "text/plain": [
       "<Figure size 432x288 with 2 Axes>"
      ]
     },
     "metadata": {
      "needs_background": "light"
     },
     "output_type": "display_data"
    }
   ],
   "source": [
    "corr_matrix = df.corr()\n",
    "corr_features = corr_matrix.index\n",
    "heatmap(df[corr_features].corr(), annot=True, cmap=\"RdYlBu\")"
   ]
  },
  {
   "cell_type": "markdown",
   "metadata": {},
   "source": [
    "Even though play and dataline show high correlation (close to 1), it is still useless because it is just an unique id for each row. <br>***Let's delete Dataline!*** And continue cleaning"
   ]
  },
  {
   "cell_type": "code",
   "execution_count": 9,
   "metadata": {
    "ExecuteTime": {
     "end_time": "2020-09-21T21:09:21.491099Z",
     "start_time": "2020-09-21T21:09:21.480046Z"
    }
   },
   "outputs": [],
   "source": [
    "del df['Dataline']"
   ]
  },
  {
   "cell_type": "markdown",
   "metadata": {},
   "source": [
    "***Seperating Act Scene and Line when there is '.'*** "
   ]
  },
  {
   "cell_type": "code",
   "execution_count": 10,
   "metadata": {
    "ExecuteTime": {
     "end_time": "2020-09-21T21:09:22.508641Z",
     "start_time": "2020-09-21T21:09:21.497589Z"
    },
    "scrolled": true
   },
   "outputs": [
    {
     "data": {
      "text/html": [
       "<div>\n",
       "<style scoped>\n",
       "    .dataframe tbody tr th:only-of-type {\n",
       "        vertical-align: middle;\n",
       "    }\n",
       "\n",
       "    .dataframe tbody tr th {\n",
       "        vertical-align: top;\n",
       "    }\n",
       "\n",
       "    .dataframe thead th {\n",
       "        text-align: right;\n",
       "    }\n",
       "</style>\n",
       "<table border=\"1\" class=\"dataframe\">\n",
       "  <thead>\n",
       "    <tr style=\"text-align: right;\">\n",
       "      <th></th>\n",
       "      <th>Play</th>\n",
       "      <th>PlayerLinenumber</th>\n",
       "      <th>ActSceneLine</th>\n",
       "      <th>Player</th>\n",
       "      <th>PlayerLine</th>\n",
       "      <th>Act</th>\n",
       "      <th>Scene</th>\n",
       "      <th>Line</th>\n",
       "    </tr>\n",
       "  </thead>\n",
       "  <tbody>\n",
       "    <tr>\n",
       "      <th>0</th>\n",
       "      <td>9</td>\n",
       "      <td>1.0</td>\n",
       "      <td>1.1.1</td>\n",
       "      <td>457</td>\n",
       "      <td>So shaken as we are, so wan with care,</td>\n",
       "      <td>1</td>\n",
       "      <td>1</td>\n",
       "      <td>1</td>\n",
       "    </tr>\n",
       "    <tr>\n",
       "      <th>1</th>\n",
       "      <td>9</td>\n",
       "      <td>1.0</td>\n",
       "      <td>1.1.2</td>\n",
       "      <td>457</td>\n",
       "      <td>Find we a time for frighted peace to pant,</td>\n",
       "      <td>1</td>\n",
       "      <td>1</td>\n",
       "      <td>2</td>\n",
       "    </tr>\n",
       "    <tr>\n",
       "      <th>2</th>\n",
       "      <td>9</td>\n",
       "      <td>1.0</td>\n",
       "      <td>1.1.3</td>\n",
       "      <td>457</td>\n",
       "      <td>And breathe short-winded accents of new broils</td>\n",
       "      <td>1</td>\n",
       "      <td>1</td>\n",
       "      <td>3</td>\n",
       "    </tr>\n",
       "    <tr>\n",
       "      <th>3</th>\n",
       "      <td>9</td>\n",
       "      <td>1.0</td>\n",
       "      <td>1.1.4</td>\n",
       "      <td>457</td>\n",
       "      <td>To be commenced in strands afar remote.</td>\n",
       "      <td>1</td>\n",
       "      <td>1</td>\n",
       "      <td>4</td>\n",
       "    </tr>\n",
       "    <tr>\n",
       "      <th>4</th>\n",
       "      <td>9</td>\n",
       "      <td>1.0</td>\n",
       "      <td>1.1.5</td>\n",
       "      <td>457</td>\n",
       "      <td>No more the thirsty entrance of this soil</td>\n",
       "      <td>1</td>\n",
       "      <td>1</td>\n",
       "      <td>5</td>\n",
       "    </tr>\n",
       "  </tbody>\n",
       "</table>\n",
       "</div>"
      ],
      "text/plain": [
       "   Play  PlayerLinenumber ActSceneLine  Player  \\\n",
       "0     9               1.0        1.1.1     457   \n",
       "1     9               1.0        1.1.2     457   \n",
       "2     9               1.0        1.1.3     457   \n",
       "3     9               1.0        1.1.4     457   \n",
       "4     9               1.0        1.1.5     457   \n",
       "\n",
       "                                       PlayerLine  Act  Scene  Line  \n",
       "0          So shaken as we are, so wan with care,    1      1     1  \n",
       "1      Find we a time for frighted peace to pant,    1      1     2  \n",
       "2  And breathe short-winded accents of new broils    1      1     3  \n",
       "3         To be commenced in strands afar remote.    1      1     4  \n",
       "4       No more the thirsty entrance of this soil    1      1     5  "
      ]
     },
     "execution_count": 10,
     "metadata": {},
     "output_type": "execute_result"
    }
   ],
   "source": [
    "df_temp = df['ActSceneLine'].str.split('.', n=2, expand=True)\n",
    "df[\"Act\"] = df_temp[0].astype(int)\n",
    "df[\"Scene\"] = df_temp[1].astype(int)\n",
    "df[\"Line\"] = df_temp[2].astype(int)\n",
    "\n",
    "df.head()"
   ]
  },
  {
   "cell_type": "markdown",
   "metadata": {
    "ExecuteTime": {
     "end_time": "2020-09-21T09:21:55.330083Z",
     "start_time": "2020-09-21T09:21:55.326064Z"
    }
   },
   "source": [
    "It looks great!<br> ***Let's delete the ActSceneLine :)***"
   ]
  },
  {
   "cell_type": "code",
   "execution_count": 11,
   "metadata": {
    "ExecuteTime": {
     "end_time": "2020-09-21T21:09:22.525962Z",
     "start_time": "2020-09-21T21:09:22.514430Z"
    }
   },
   "outputs": [],
   "source": [
    "del df[\"ActSceneLine\"]"
   ]
  },
  {
   "cell_type": "markdown",
   "metadata": {
    "ExecuteTime": {
     "end_time": "2020-09-21T10:01:37.160803Z",
     "start_time": "2020-09-21T10:01:37.157375Z"
    }
   },
   "source": [
    "***Change playerline to lowercase and remove all punctuation***"
   ]
  },
  {
   "cell_type": "code",
   "execution_count": 12,
   "metadata": {
    "ExecuteTime": {
     "end_time": "2020-09-21T21:09:23.525297Z",
     "start_time": "2020-09-21T21:09:22.532006Z"
    },
    "scrolled": false
   },
   "outputs": [
    {
     "data": {
      "text/html": [
       "<div>\n",
       "<style scoped>\n",
       "    .dataframe tbody tr th:only-of-type {\n",
       "        vertical-align: middle;\n",
       "    }\n",
       "\n",
       "    .dataframe tbody tr th {\n",
       "        vertical-align: top;\n",
       "    }\n",
       "\n",
       "    .dataframe thead th {\n",
       "        text-align: right;\n",
       "    }\n",
       "</style>\n",
       "<table border=\"1\" class=\"dataframe\">\n",
       "  <thead>\n",
       "    <tr style=\"text-align: right;\">\n",
       "      <th></th>\n",
       "      <th>Play</th>\n",
       "      <th>PlayerLinenumber</th>\n",
       "      <th>Player</th>\n",
       "      <th>PlayerLine</th>\n",
       "      <th>Act</th>\n",
       "      <th>Scene</th>\n",
       "      <th>Line</th>\n",
       "    </tr>\n",
       "  </thead>\n",
       "  <tbody>\n",
       "    <tr>\n",
       "      <th>0</th>\n",
       "      <td>9</td>\n",
       "      <td>1.0</td>\n",
       "      <td>457</td>\n",
       "      <td>so shaken as we are so wan with care</td>\n",
       "      <td>1</td>\n",
       "      <td>1</td>\n",
       "      <td>1</td>\n",
       "    </tr>\n",
       "    <tr>\n",
       "      <th>1</th>\n",
       "      <td>9</td>\n",
       "      <td>1.0</td>\n",
       "      <td>457</td>\n",
       "      <td>find we a time for frighted peace to pant</td>\n",
       "      <td>1</td>\n",
       "      <td>1</td>\n",
       "      <td>2</td>\n",
       "    </tr>\n",
       "    <tr>\n",
       "      <th>2</th>\n",
       "      <td>9</td>\n",
       "      <td>1.0</td>\n",
       "      <td>457</td>\n",
       "      <td>and breathe shortwinded accents of new broils</td>\n",
       "      <td>1</td>\n",
       "      <td>1</td>\n",
       "      <td>3</td>\n",
       "    </tr>\n",
       "    <tr>\n",
       "      <th>3</th>\n",
       "      <td>9</td>\n",
       "      <td>1.0</td>\n",
       "      <td>457</td>\n",
       "      <td>to be commenced in strands afar remote</td>\n",
       "      <td>1</td>\n",
       "      <td>1</td>\n",
       "      <td>4</td>\n",
       "    </tr>\n",
       "    <tr>\n",
       "      <th>4</th>\n",
       "      <td>9</td>\n",
       "      <td>1.0</td>\n",
       "      <td>457</td>\n",
       "      <td>no more the thirsty entrance of this soil</td>\n",
       "      <td>1</td>\n",
       "      <td>1</td>\n",
       "      <td>5</td>\n",
       "    </tr>\n",
       "  </tbody>\n",
       "</table>\n",
       "</div>"
      ],
      "text/plain": [
       "   Play  PlayerLinenumber  Player  \\\n",
       "0     9               1.0     457   \n",
       "1     9               1.0     457   \n",
       "2     9               1.0     457   \n",
       "3     9               1.0     457   \n",
       "4     9               1.0     457   \n",
       "\n",
       "                                      PlayerLine  Act  Scene  Line  \n",
       "0           so shaken as we are so wan with care    1      1     1  \n",
       "1      find we a time for frighted peace to pant    1      1     2  \n",
       "2  and breathe shortwinded accents of new broils    1      1     3  \n",
       "3         to be commenced in strands afar remote    1      1     4  \n",
       "4      no more the thirsty entrance of this soil    1      1     5  "
      ]
     },
     "execution_count": 12,
     "metadata": {},
     "output_type": "execute_result"
    }
   ],
   "source": [
    "# Remove all the punctuations in playerline col with regex\n",
    "df[\"PlayerLine\"] = df[\"PlayerLine\"].str.replace(r'[^\\w\\s]', '').str.lower()\n",
    "df.head()"
   ]
  },
  {
   "cell_type": "markdown",
   "metadata": {
    "ExecuteTime": {
     "end_time": "2020-09-21T10:01:37.160803Z",
     "start_time": "2020-09-21T10:01:37.157375Z"
    }
   },
   "source": [
    "***Find the most frequent word in the dataset with nltk library***"
   ]
  },
  {
   "cell_type": "code",
   "execution_count": 13,
   "metadata": {
    "ExecuteTime": {
     "end_time": "2020-09-21T21:09:29.224534Z",
     "start_time": "2020-09-21T21:09:23.530947Z"
    },
    "scrolled": true
   },
   "outputs": [
    {
     "data": {
      "text/plain": [
       "[('the', 26004),\n",
       " ('and', 23389),\n",
       " ('i', 19889),\n",
       " ('to', 18122),\n",
       " ('of', 15429),\n",
       " ('you', 13316),\n",
       " ('a', 13312),\n",
       " ('my', 11864),\n",
       " ('that', 10399),\n",
       " ('in', 10214)]"
      ]
     },
     "execution_count": 13,
     "metadata": {},
     "output_type": "execute_result"
    }
   ],
   "source": [
    "txt = df.PlayerLine.str.cat(sep=' ')\n",
    "words = tokenize.word_tokenize(txt)\n",
    "freq_word = FreqDist(words)\n",
    "freq_word.most_common(10)"
   ]
  },
  {
   "cell_type": "markdown",
   "metadata": {
    "ExecuteTime": {
     "end_time": "2020-09-21T11:07:29.491216Z",
     "start_time": "2020-09-21T11:07:29.487328Z"
    }
   },
   "source": [
    "All of it are stopwords (the,and,on,of,etc)<br>\n",
    "***Another FreqDist without stopwords***"
   ]
  },
  {
   "cell_type": "code",
   "execution_count": 14,
   "metadata": {
    "ExecuteTime": {
     "end_time": "2020-09-21T21:09:31.855902Z",
     "start_time": "2020-09-21T21:09:29.230585Z"
    },
    "scrolled": false
   },
   "outputs": [
    {
     "data": {
      "text/plain": [
       "[('thou', 5186),\n",
       " ('thy', 3726),\n",
       " ('shall', 3470),\n",
       " ('thee', 3018),\n",
       " ('good', 2706),\n",
       " ('lord', 2572),\n",
       " ('come', 2433),\n",
       " ('well', 2413),\n",
       " ('sir', 2369),\n",
       " ('would', 2243),\n",
       " ('let', 2019),\n",
       " ('ill', 1932),\n",
       " ('love', 1875),\n",
       " ('hath', 1842),\n",
       " ('man', 1746),\n",
       " ('one', 1706),\n",
       " ('go', 1677),\n",
       " ('upon', 1653),\n",
       " ('like', 1648),\n",
       " ('know', 1633),\n",
       " ('us', 1629),\n",
       " ('say', 1613),\n",
       " ('may', 1591),\n",
       " ('make', 1581),\n",
       " ('yet', 1514),\n",
       " ('must', 1463),\n",
       " ('see', 1375),\n",
       " ('tis', 1363),\n",
       " ('king', 1315),\n",
       " ('give', 1291),\n",
       " ('take', 1173),\n",
       " ('speak', 1131),\n",
       " ('mine', 1089),\n",
       " ('tell', 1038),\n",
       " ('much', 1001),\n",
       " ('think', 997),\n",
       " ('never', 990),\n",
       " ('time', 970),\n",
       " ('heart', 913),\n",
       " ('great', 868),\n",
       " ('hear', 861),\n",
       " ('art', 852),\n",
       " ('death', 833),\n",
       " ('men', 827),\n",
       " ('away', 814),\n",
       " ('doth', 809),\n",
       " ('life', 803),\n",
       " ('made', 797),\n",
       " ('father', 796),\n",
       " ('look', 787),\n",
       " ('hand', 780),\n",
       " ('ay', 762),\n",
       " ('thus', 739),\n",
       " ('true', 737),\n",
       " ('pray', 728),\n",
       " ('sweet', 717),\n",
       " ('god', 716),\n",
       " ('fair', 713),\n",
       " ('master', 698),\n",
       " ('day', 667),\n",
       " ('done', 647),\n",
       " ('leave', 637),\n",
       " ('eyes', 635),\n",
       " ('name', 628),\n",
       " ('lady', 626),\n",
       " ('heaven', 611),\n",
       " ('blood', 609),\n",
       " ('fear', 609),\n",
       " ('could', 607),\n",
       " ('honour', 606),\n",
       " ('therefore', 603),\n",
       " ('night', 603),\n",
       " ('nothing', 603),\n",
       " ('noble', 600),\n",
       " ('till', 600),\n",
       " ('poor', 599),\n",
       " ('ever', 594),\n",
       " ('world', 593),\n",
       " ('though', 589),\n",
       " ('whose', 583),\n",
       " ('son', 580),\n",
       " ('nay', 579),\n",
       " ('old', 578),\n",
       " ('comes', 578),\n",
       " ('hast', 576),\n",
       " ('even', 570),\n",
       " ('two', 563),\n",
       " ('better', 553),\n",
       " ('way', 550),\n",
       " ('call', 550),\n",
       " ('grace', 535),\n",
       " ('many', 534),\n",
       " ('stand', 527),\n",
       " ('first', 521),\n",
       " ('madam', 517),\n",
       " ('brother', 515),\n",
       " ('every', 504),\n",
       " ('find', 502),\n",
       " ('bear', 501),\n",
       " ('peace', 499)]"
      ]
     },
     "execution_count": 14,
     "metadata": {},
     "output_type": "execute_result"
    }
   ],
   "source": [
    "stopwords = corpus.stopwords.words('english')\n",
    "freq_word_without_stopwords = FreqDist(word for word in words if word not in stopwords)\n",
    "freq_word_without_stopwords.most_common(100)"
   ]
  },
  {
   "cell_type": "markdown",
   "metadata": {},
   "source": [
    "***Lets double check the word frequency with wordcloud***"
   ]
  },
  {
   "cell_type": "code",
   "execution_count": 15,
   "metadata": {
    "ExecuteTime": {
     "end_time": "2020-09-21T21:09:36.469034Z",
     "start_time": "2020-09-21T21:09:31.858604Z"
    },
    "scrolled": false
   },
   "outputs": [
    {
     "data": {
      "image/png": "[encoded data removed]",
      "text/plain": [
       "<Figure size 432x288 with 1 Axes>"
      ]
     },
     "metadata": {
      "needs_background": "light"
     },
     "output_type": "display_data"
    }
   ],
   "source": [
    "wordcloud = WordCloud(stopwords = STOPWORDS).generate(str(txt))\n",
    "imshow(wordcloud)\n",
    "axis('off')\n",
    "show()"
   ]
  },
  {
   "cell_type": "markdown",
   "metadata": {},
   "source": [
    "wordcloud seems to match our freq_word_without_stopwords"
   ]
  },
  {
   "cell_type": "markdown",
   "metadata": {},
   "source": [
    "***Let's give numerical represention to PlayerLine col with Bag of words*** <br>\n",
    "*NOTE: machine learning models dont know how to work with strings*"
   ]
  },
  {
   "cell_type": "code",
   "execution_count": 16,
   "metadata": {
    "ExecuteTime": {
     "end_time": "2020-09-21T21:09:40.741120Z",
     "start_time": "2020-09-21T21:09:36.471174Z"
    },
    "scrolled": false
   },
   "outputs": [
    {
     "name": "stdout",
     "output_type": "stream",
     "text": [
      "<class 'scipy.sparse.csr.csr_matrix'>\n"
     ]
    },
    {
     "data": {
      "text/plain": [
       "array([[0, 0, 0, ..., 0, 0, 0],\n",
       "       [0, 0, 0, ..., 0, 0, 0],\n",
       "       [0, 0, 0, ..., 0, 0, 0],\n",
       "       ...,\n",
       "       [0, 0, 0, ..., 0, 0, 0],\n",
       "       [0, 0, 0, ..., 0, 0, 0],\n",
       "       [0, 1, 0, ..., 0, 0, 0]])"
      ]
     },
     "execution_count": 16,
     "metadata": {},
     "output_type": "execute_result"
    }
   ],
   "source": [
    "# Change vectorize \n",
    "count_vectorizer = CountVectorizer(max_df=5186, min_df=499, stop_words=stopwords, max_features=100) # to reduce dimensionality\n",
    "vectorize_PlayerLine = count_vectorizer.fit_transform(df[\"PlayerLine\"])\n",
    "print(type(vectorize_PlayerLine))\n",
    "vectorize_PlayerLine.toarray()"
   ]
  },
  {
   "cell_type": "markdown",
   "metadata": {},
   "source": [
    "***What is max_df and min_df?*** <br>\n",
    "***max_df*** is used for removing terms that appear too frequently, also known as \"corpus-specific stop words\". <br>\n",
    "For example: <br>\n",
    "***max_df*** = 0.50 means \"ignore terms that appear in more than 50% of the documents\". <br>\n",
    "***max_df*** = 25 means \"ignore terms that appear in more than 25 documents\". <br>\n",
    "The default ***max_df*** is 1.0, which means \"ignore terms that appear in more than 100% of the documents\". <br>\n",
    "Thus, the default setting does not ignore any terms. <br>\n",
    "\n",
    "***min_df*** is same but the opposite "
   ]
  },
  {
   "cell_type": "code",
   "execution_count": 17,
   "metadata": {
    "ExecuteTime": {
     "end_time": "2020-09-21T21:09:40.759115Z",
     "start_time": "2020-09-21T21:09:40.743731Z"
    },
    "scrolled": false
   },
   "outputs": [
    {
     "data": {
      "text/html": [
       "<div>\n",
       "<style scoped>\n",
       "    .dataframe tbody tr th:only-of-type {\n",
       "        vertical-align: middle;\n",
       "    }\n",
       "\n",
       "    .dataframe tbody tr th {\n",
       "        vertical-align: top;\n",
       "    }\n",
       "\n",
       "    .dataframe thead th {\n",
       "        text-align: right;\n",
       "    }\n",
       "</style>\n",
       "<table border=\"1\" class=\"dataframe\">\n",
       "  <thead>\n",
       "    <tr style=\"text-align: right;\">\n",
       "      <th></th>\n",
       "      <th>Play</th>\n",
       "      <th>PlayerLinenumber</th>\n",
       "      <th>Act</th>\n",
       "      <th>Scene</th>\n",
       "      <th>Line</th>\n",
       "    </tr>\n",
       "  </thead>\n",
       "  <tbody>\n",
       "    <tr>\n",
       "      <th>0</th>\n",
       "      <td>9</td>\n",
       "      <td>1.0</td>\n",
       "      <td>1</td>\n",
       "      <td>1</td>\n",
       "      <td>1</td>\n",
       "    </tr>\n",
       "    <tr>\n",
       "      <th>1</th>\n",
       "      <td>9</td>\n",
       "      <td>1.0</td>\n",
       "      <td>1</td>\n",
       "      <td>1</td>\n",
       "      <td>2</td>\n",
       "    </tr>\n",
       "    <tr>\n",
       "      <th>2</th>\n",
       "      <td>9</td>\n",
       "      <td>1.0</td>\n",
       "      <td>1</td>\n",
       "      <td>1</td>\n",
       "      <td>3</td>\n",
       "    </tr>\n",
       "    <tr>\n",
       "      <th>3</th>\n",
       "      <td>9</td>\n",
       "      <td>1.0</td>\n",
       "      <td>1</td>\n",
       "      <td>1</td>\n",
       "      <td>4</td>\n",
       "    </tr>\n",
       "    <tr>\n",
       "      <th>4</th>\n",
       "      <td>9</td>\n",
       "      <td>1.0</td>\n",
       "      <td>1</td>\n",
       "      <td>1</td>\n",
       "      <td>5</td>\n",
       "    </tr>\n",
       "  </tbody>\n",
       "</table>\n",
       "</div>"
      ],
      "text/plain": [
       "   Play  PlayerLinenumber  Act  Scene  Line\n",
       "0     9               1.0    1      1     1\n",
       "1     9               1.0    1      1     2\n",
       "2     9               1.0    1      1     3\n",
       "3     9               1.0    1      1     4\n",
       "4     9               1.0    1      1     5"
      ]
     },
     "execution_count": 17,
     "metadata": {},
     "output_type": "execute_result"
    }
   ],
   "source": [
    "df_temp = df.loc[:, (df.columns != 'Player') & (df.columns != 'PlayerLine')]\n",
    "df_temp.head()"
   ]
  },
  {
   "cell_type": "code",
   "execution_count": 18,
   "metadata": {
    "ExecuteTime": {
     "end_time": "2020-09-21T21:09:40.860341Z",
     "start_time": "2020-09-21T21:09:40.761442Z"
    },
    "scrolled": false
   },
   "outputs": [
    {
     "data": {
      "text/plain": [
       "<105152x103 sparse matrix of type '<class 'numpy.float64'>'\n",
       "\twith 630873 stored elements in COOrdinate format>"
      ]
     },
     "execution_count": 18,
     "metadata": {},
     "output_type": "execute_result"
    }
   ],
   "source": [
    "X = hstack([csr_matrix(df_temp),vectorize_PlayerLine])\n",
    "X # input"
   ]
  },
  {
   "cell_type": "code",
   "execution_count": 19,
   "metadata": {
    "ExecuteTime": {
     "end_time": "2020-09-21T21:09:40.869686Z",
     "start_time": "2020-09-21T21:09:40.863081Z"
    },
    "scrolled": true
   },
   "outputs": [
    {
     "data": {
      "text/plain": [
       "array([457, 457, 457, ..., 494, 494, 494])"
      ]
     },
     "execution_count": 19,
     "metadata": {},
     "output_type": "execute_result"
    }
   ],
   "source": [
    "Y = df.Player.values\n",
    "Y # output"
   ]
  },
  {
   "cell_type": "markdown",
   "metadata": {},
   "source": [
    "***Use train_test_split to get the train and validation of X and Y***"
   ]
  },
  {
   "cell_type": "code",
   "execution_count": 20,
   "metadata": {
    "ExecuteTime": {
     "end_time": "2020-09-21T21:09:44.678198Z",
     "start_time": "2020-09-21T21:09:40.872544Z"
    }
   },
   "outputs": [],
   "source": [
    "df['PlayerLine'] = LabelEncoder().fit_transform(df['PlayerLine'])\n",
    "X = df.loc[:, (df.columns != 'Player') ]\n",
    "X_train, X_validation , Y_train, Y_validation = train_test_split(X, Y, test_size=0.2, random_state=1,shuffle=True)"
   ]
  },
  {
   "cell_type": "code",
   "execution_count": 21,
   "metadata": {
    "ExecuteTime": {
     "end_time": "2020-09-21T21:09:44.685214Z",
     "start_time": "2020-09-21T21:09:44.680632Z"
    }
   },
   "outputs": [],
   "source": [
    "def evaluate_model(name, model):\n",
    "    model.fit(X_train, Y_train)\n",
    "    prediction = model.predict(X_validation)\n",
    "    acc_score = accuracy_score(Y_validation, prediction)\n",
    "    print(f\"{name}'s accuracy score is {acc_score}\" )"
   ]
  },
  {
   "cell_type": "code",
   "execution_count": 22,
   "metadata": {
    "ExecuteTime": {
     "end_time": "2020-09-21T21:09:44.699564Z",
     "start_time": "2020-09-21T21:09:44.691817Z"
    }
   },
   "outputs": [],
   "source": [
    "def evaluate_model_with_cross_val(name,model,n_splits):\n",
    "    kFold = StratifiedKFold(n_splits=n_splits, random_state=1, shuffle=True)\n",
    "    prediction = cross_val_predict(model, X_train, Y_train, cv=kFold)\n",
    "    acc_score = accuracy_score(Y_train, prediction)\n",
    "    print(f\"{name}'s accuracy score with cross validation (k={n_splits}) is {acc_score}\" )    "
   ]
  },
  {
   "cell_type": "markdown",
   "metadata": {},
   "source": [
    "## List of models and models name we want to fit and transform"
   ]
  },
  {
   "cell_type": "code",
   "execution_count": 23,
   "metadata": {
    "scrolled": false
   },
   "outputs": [],
   "source": [
    "models = []\n",
    "models.append(('Decision Tree Classifier', DecisionTreeClassifier()))\n",
    "models.append(('Linear Discriminant Analysis', LinearDiscriminantAnalysis()))\n",
    "models.append(('K Neighbour Classifier ', KNeighborsClassifier()))\n",
    "models.append(('Gaussian Naive Bayes', GaussianNB()))\n",
    "models.append(('Random Forest Classifier', RandomForestClassifier(n_estimators=100)))"
   ]
  },
  {
   "cell_type": "code",
   "execution_count": 24,
   "metadata": {
    "scrolled": true
   },
   "outputs": [
    {
     "name": "stdout",
     "output_type": "stream",
     "text": [
      "Decision Tree Classifier's accuracy score is 0.7222671294755361\n",
      "Linear Discriminant Analysis's accuracy score is 0.10513052161095526\n",
      "K Neighbour Classifier 's accuracy score is 0.022062669392801104\n",
      "Gaussian Naive Bayes's accuracy score is 0.1757881222956588\n",
      "Random Forest Classifier's accuracy score is 0.7620179734677381\n"
     ]
    }
   ],
   "source": [
    "for name, model in models:\n",
    "    evaluate_model(name, model)"
   ]
  },
  {
   "cell_type": "markdown",
   "metadata": {},
   "source": [
    "Let's see if any of the model other than Random Forest Classifier will surpass the accuracy"
   ]
  },
  {
   "cell_type": "code",
   "execution_count": 25,
   "metadata": {
    "scrolled": true
   },
   "outputs": [
    {
     "name": "stdout",
     "output_type": "stream",
     "text": [
      "Decision Tree Classifier's accuracy score with cross validation (k=10) is 0.7180490008440223\n",
      "Linear Discriminant Analysis's accuracy score with cross validation (k=10) is 0.10719083225353955\n",
      "K Neighbour Classifier 's accuracy score with cross validation (k=10) is 0.019840467897433458\n",
      "Gaussian Naive Bayes's accuracy score with cross validation (k=10) is 0.17725657089192948\n"
     ]
    }
   ],
   "source": [
    "for name, model in models[:4]:\n",
    "    evaluate_model_with_cross_val(name, model,10)"
   ]
  },
  {
   "cell_type": "markdown",
   "metadata": {},
   "source": [
    "# Summary\n",
    "Random forest has the highest accuracy"
   ]
  }
 ],
 "metadata": {
  "kernelspec": {
   "display_name": "Python 3",
   "language": "python",
   "name": "python3"
  },
  "language_info": {
   "codemirror_mode": {
    "name": "ipython",
    "version": 3
   },
   "file_extension": ".py",
   "mimetype": "text/x-python",
   "name": "python",
   "nbconvert_exporter": "python",
   "pygments_lexer": "ipython3",
   "version": "3.8.5"
  },
  "varInspector": {
   "cols": {
    "lenName": 16,
    "lenType": 16,
    "lenVar": 40
   },
   "kernels_config": {
    "python": {
     "delete_cmd_postfix": "",
     "delete_cmd_prefix": "del ",
     "library": "var_list.py",
     "varRefreshCmd": "print(var_dic_list())"
    },
    "r": {
     "delete_cmd_postfix": ") ",
     "delete_cmd_prefix": "rm(",
     "library": "var_list.r",
     "varRefreshCmd": "cat(var_dic_list()) "
    }
   },
   "types_to_exclude": [
    "module",
    "function",
    "builtin_function_or_method",
    "instance",
    "_Feature"
   ],
   "window_display": false
  }
 },
 "nbformat": 4,
 "nbformat_minor": 4
}
