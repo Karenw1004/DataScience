{
 "cells": [
  {
   "cell_type": "markdown",
   "metadata": {},
   "source": [
    "# EECS731\n",
    "## Project 3 - Weekend Movie Trip\n",
    "\n",
    "Blockbuster or art film?\n",
    "1. Set up a data science project structure in a new git repository in your GitHub account\n",
    "2. Download the one of the MovieLens datasets from https://grouplens.org/datasets/movielens/\n",
    "3. Load the data set into panda data frames\n",
    "4. Formulate one or two ideas on how the combination of ratings and tags by users helps the data set to establish additional value using exploratory data analysis\n",
    "5. Build one or more clustering models to determine similar movies to recommend using the other ratings and tags of movies by other users as features\n",
    "6. Document your process and results\n",
    "7. Commit your notebook, source code, visualizations and other supporting files to the git repository in GitHub\n",
    "<br>\n",
    "***"
   ]
  },
  {
   "cell_type": "code",
   "execution_count": 1,
   "metadata": {
    "ExecuteTime": {
     "end_time": "2020-09-29T04:50:12.617616Z",
     "start_time": "2020-09-29T04:50:10.350955Z"
    }
   },
   "outputs": [],
   "source": [
    "from pandas import read_csv, Series, pivot_table, get_dummies, concat\n",
    "from re import sub\n",
    "from sklearn.model_selection import train_test_split\n",
    "from sklearn.utils import shuffle\n",
    "from gensim.models.doc2vec import Doc2Vec, TaggedDocument\n",
    "from nltk.tokenize import word_tokenize\n",
    "from nltk.corpus import stopwords\n",
    "from numpy import zeros\n",
    "from sklearn import utils\n",
    "from sklearn.model_selection import train_test_split\n",
    "from sklearn.linear_model import LogisticRegression\n",
    "from sklearn.ensemble import RandomForestClassifier\n",
    "from sklearn.neighbors import KNeighborsClassifier\n",
    "from sklearn.metrics import accuracy_score, f1_score\n",
    "from matplotlib.pyplot import figure , imshow, axis, show\n",
    "from sklearn.metrics import classification_report\n",
    "from sklearn.metrics import confusion_matrix\n",
    "from sklearn.metrics import accuracy_score\n",
    "from matplotlib.pyplot import figure , imshow, axis, show, plot, title, xlabel, ylabel\n",
    "import numpy as np\n",
    "from numpy import *\n",
    "import numpy.matlib"
   ]
  },
  {
   "cell_type": "code",
   "execution_count": 2,
   "metadata": {
    "ExecuteTime": {
     "end_time": "2020-09-29T04:50:12.659756Z",
     "start_time": "2020-09-29T04:50:12.619333Z"
    },
    "scrolled": true
   },
   "outputs": [
    {
     "data": {
      "text/html": [
       "<div>\n",
       "<style scoped>\n",
       "    .dataframe tbody tr th:only-of-type {\n",
       "        vertical-align: middle;\n",
       "    }\n",
       "\n",
       "    .dataframe tbody tr th {\n",
       "        vertical-align: top;\n",
       "    }\n",
       "\n",
       "    .dataframe thead th {\n",
       "        text-align: right;\n",
       "    }\n",
       "</style>\n",
       "<table border=\"1\" class=\"dataframe\">\n",
       "  <thead>\n",
       "    <tr style=\"text-align: right;\">\n",
       "      <th></th>\n",
       "      <th>movieId</th>\n",
       "      <th>title</th>\n",
       "      <th>genres</th>\n",
       "    </tr>\n",
       "  </thead>\n",
       "  <tbody>\n",
       "    <tr>\n",
       "      <th>0</th>\n",
       "      <td>1</td>\n",
       "      <td>Toy Story (1995)</td>\n",
       "      <td>Adventure|Animation|Children|Comedy|Fantasy</td>\n",
       "    </tr>\n",
       "    <tr>\n",
       "      <th>1</th>\n",
       "      <td>2</td>\n",
       "      <td>Jumanji (1995)</td>\n",
       "      <td>Adventure|Children|Fantasy</td>\n",
       "    </tr>\n",
       "    <tr>\n",
       "      <th>2</th>\n",
       "      <td>3</td>\n",
       "      <td>Grumpier Old Men (1995)</td>\n",
       "      <td>Comedy|Romance</td>\n",
       "    </tr>\n",
       "    <tr>\n",
       "      <th>3</th>\n",
       "      <td>4</td>\n",
       "      <td>Waiting to Exhale (1995)</td>\n",
       "      <td>Comedy|Drama|Romance</td>\n",
       "    </tr>\n",
       "    <tr>\n",
       "      <th>4</th>\n",
       "      <td>5</td>\n",
       "      <td>Father of the Bride Part II (1995)</td>\n",
       "      <td>Comedy</td>\n",
       "    </tr>\n",
       "  </tbody>\n",
       "</table>\n",
       "</div>"
      ],
      "text/plain": [
       "   movieId                               title  \\\n",
       "0        1                    Toy Story (1995)   \n",
       "1        2                      Jumanji (1995)   \n",
       "2        3             Grumpier Old Men (1995)   \n",
       "3        4            Waiting to Exhale (1995)   \n",
       "4        5  Father of the Bride Part II (1995)   \n",
       "\n",
       "                                        genres  \n",
       "0  Adventure|Animation|Children|Comedy|Fantasy  \n",
       "1                   Adventure|Children|Fantasy  \n",
       "2                               Comedy|Romance  \n",
       "3                         Comedy|Drama|Romance  \n",
       "4                                       Comedy  "
      ]
     },
     "execution_count": 2,
     "metadata": {},
     "output_type": "execute_result"
    }
   ],
   "source": [
    "df_movies = read_csv(\"../data/raw/movies.csv\")\n",
    "df_movies.head()"
   ]
  },
  {
   "cell_type": "code",
   "execution_count": 3,
   "metadata": {
    "ExecuteTime": {
     "end_time": "2020-09-29T04:50:12.674409Z",
     "start_time": "2020-09-29T04:50:12.662518Z"
    }
   },
   "outputs": [
    {
     "name": "stdout",
     "output_type": "stream",
     "text": [
      "<class 'pandas.core.frame.DataFrame'>\n",
      "RangeIndex: 9742 entries, 0 to 9741\n",
      "Data columns (total 3 columns):\n",
      " #   Column   Non-Null Count  Dtype \n",
      "---  ------   --------------  ----- \n",
      " 0   movieId  9742 non-null   int64 \n",
      " 1   title    9742 non-null   object\n",
      " 2   genres   9742 non-null   object\n",
      "dtypes: int64(1), object(2)\n",
      "memory usage: 228.5+ KB\n"
     ]
    }
   ],
   "source": [
    "df_movies.info()"
   ]
  },
  {
   "cell_type": "code",
   "execution_count": 4,
   "metadata": {
    "ExecuteTime": {
     "end_time": "2020-09-29T04:50:12.685767Z",
     "start_time": "2020-09-29T04:50:12.677327Z"
    }
   },
   "outputs": [
    {
     "data": {
      "text/plain": [
       "movieId    False\n",
       "title      False\n",
       "genres     False\n",
       "dtype: bool"
      ]
     },
     "execution_count": 4,
     "metadata": {},
     "output_type": "execute_result"
    }
   ],
   "source": [
    "df_movies.isnull().any()"
   ]
  },
  {
   "cell_type": "code",
   "execution_count": 5,
   "metadata": {
    "ExecuteTime": {
     "end_time": "2020-09-29T04:50:12.760106Z",
     "start_time": "2020-09-29T04:50:12.688240Z"
    },
    "scrolled": true
   },
   "outputs": [
    {
     "data": {
      "text/html": [
       "<div>\n",
       "<style scoped>\n",
       "    .dataframe tbody tr th:only-of-type {\n",
       "        vertical-align: middle;\n",
       "    }\n",
       "\n",
       "    .dataframe tbody tr th {\n",
       "        vertical-align: top;\n",
       "    }\n",
       "\n",
       "    .dataframe thead th {\n",
       "        text-align: right;\n",
       "    }\n",
       "</style>\n",
       "<table border=\"1\" class=\"dataframe\">\n",
       "  <thead>\n",
       "    <tr style=\"text-align: right;\">\n",
       "      <th></th>\n",
       "      <th>userId</th>\n",
       "      <th>movieId</th>\n",
       "      <th>rating</th>\n",
       "      <th>timestamp</th>\n",
       "    </tr>\n",
       "  </thead>\n",
       "  <tbody>\n",
       "    <tr>\n",
       "      <th>0</th>\n",
       "      <td>1</td>\n",
       "      <td>1</td>\n",
       "      <td>4.0</td>\n",
       "      <td>964982703</td>\n",
       "    </tr>\n",
       "    <tr>\n",
       "      <th>1</th>\n",
       "      <td>1</td>\n",
       "      <td>3</td>\n",
       "      <td>4.0</td>\n",
       "      <td>964981247</td>\n",
       "    </tr>\n",
       "    <tr>\n",
       "      <th>2</th>\n",
       "      <td>1</td>\n",
       "      <td>6</td>\n",
       "      <td>4.0</td>\n",
       "      <td>964982224</td>\n",
       "    </tr>\n",
       "    <tr>\n",
       "      <th>3</th>\n",
       "      <td>1</td>\n",
       "      <td>47</td>\n",
       "      <td>5.0</td>\n",
       "      <td>964983815</td>\n",
       "    </tr>\n",
       "    <tr>\n",
       "      <th>4</th>\n",
       "      <td>1</td>\n",
       "      <td>50</td>\n",
       "      <td>5.0</td>\n",
       "      <td>964982931</td>\n",
       "    </tr>\n",
       "  </tbody>\n",
       "</table>\n",
       "</div>"
      ],
      "text/plain": [
       "   userId  movieId  rating  timestamp\n",
       "0       1        1     4.0  964982703\n",
       "1       1        3     4.0  964981247\n",
       "2       1        6     4.0  964982224\n",
       "3       1       47     5.0  964983815\n",
       "4       1       50     5.0  964982931"
      ]
     },
     "execution_count": 5,
     "metadata": {},
     "output_type": "execute_result"
    }
   ],
   "source": [
    "df_ratings = read_csv(\"../data/raw/ratings.csv\")\n",
    "df_ratings.head()"
   ]
  },
  {
   "cell_type": "code",
   "execution_count": 6,
   "metadata": {
    "ExecuteTime": {
     "end_time": "2020-09-29T04:50:12.772970Z",
     "start_time": "2020-09-29T04:50:12.762253Z"
    },
    "scrolled": true
   },
   "outputs": [
    {
     "name": "stdout",
     "output_type": "stream",
     "text": [
      "<class 'pandas.core.frame.DataFrame'>\n",
      "RangeIndex: 100836 entries, 0 to 100835\n",
      "Data columns (total 4 columns):\n",
      " #   Column     Non-Null Count   Dtype  \n",
      "---  ------     --------------   -----  \n",
      " 0   userId     100836 non-null  int64  \n",
      " 1   movieId    100836 non-null  int64  \n",
      " 2   rating     100836 non-null  float64\n",
      " 3   timestamp  100836 non-null  int64  \n",
      "dtypes: float64(1), int64(3)\n",
      "memory usage: 3.1 MB\n"
     ]
    }
   ],
   "source": [
    "df_ratings.info()"
   ]
  },
  {
   "cell_type": "code",
   "execution_count": 7,
   "metadata": {
    "ExecuteTime": {
     "end_time": "2020-09-29T04:50:12.788045Z",
     "start_time": "2020-09-29T04:50:12.775724Z"
    }
   },
   "outputs": [
    {
     "data": {
      "text/plain": [
       "userId       False\n",
       "movieId      False\n",
       "rating       False\n",
       "timestamp    False\n",
       "dtype: bool"
      ]
     },
     "execution_count": 7,
     "metadata": {},
     "output_type": "execute_result"
    }
   ],
   "source": [
    "df_ratings.isnull().any()"
   ]
  },
  {
   "cell_type": "code",
   "execution_count": 8,
   "metadata": {
    "ExecuteTime": {
     "end_time": "2020-09-29T04:50:12.813442Z",
     "start_time": "2020-09-29T04:50:12.794340Z"
    },
    "scrolled": true
   },
   "outputs": [
    {
     "data": {
      "text/html": [
       "<div>\n",
       "<style scoped>\n",
       "    .dataframe tbody tr th:only-of-type {\n",
       "        vertical-align: middle;\n",
       "    }\n",
       "\n",
       "    .dataframe tbody tr th {\n",
       "        vertical-align: top;\n",
       "    }\n",
       "\n",
       "    .dataframe thead th {\n",
       "        text-align: right;\n",
       "    }\n",
       "</style>\n",
       "<table border=\"1\" class=\"dataframe\">\n",
       "  <thead>\n",
       "    <tr style=\"text-align: right;\">\n",
       "      <th></th>\n",
       "      <th>userId</th>\n",
       "      <th>movieId</th>\n",
       "      <th>tag</th>\n",
       "      <th>timestamp</th>\n",
       "    </tr>\n",
       "  </thead>\n",
       "  <tbody>\n",
       "    <tr>\n",
       "      <th>0</th>\n",
       "      <td>2</td>\n",
       "      <td>60756</td>\n",
       "      <td>funny</td>\n",
       "      <td>1445714994</td>\n",
       "    </tr>\n",
       "    <tr>\n",
       "      <th>1</th>\n",
       "      <td>2</td>\n",
       "      <td>60756</td>\n",
       "      <td>Highly quotable</td>\n",
       "      <td>1445714996</td>\n",
       "    </tr>\n",
       "    <tr>\n",
       "      <th>2</th>\n",
       "      <td>2</td>\n",
       "      <td>60756</td>\n",
       "      <td>will ferrell</td>\n",
       "      <td>1445714992</td>\n",
       "    </tr>\n",
       "    <tr>\n",
       "      <th>3</th>\n",
       "      <td>2</td>\n",
       "      <td>89774</td>\n",
       "      <td>Boxing story</td>\n",
       "      <td>1445715207</td>\n",
       "    </tr>\n",
       "    <tr>\n",
       "      <th>4</th>\n",
       "      <td>2</td>\n",
       "      <td>89774</td>\n",
       "      <td>MMA</td>\n",
       "      <td>1445715200</td>\n",
       "    </tr>\n",
       "  </tbody>\n",
       "</table>\n",
       "</div>"
      ],
      "text/plain": [
       "   userId  movieId              tag   timestamp\n",
       "0       2    60756            funny  1445714994\n",
       "1       2    60756  Highly quotable  1445714996\n",
       "2       2    60756     will ferrell  1445714992\n",
       "3       2    89774     Boxing story  1445715207\n",
       "4       2    89774              MMA  1445715200"
      ]
     },
     "execution_count": 8,
     "metadata": {},
     "output_type": "execute_result"
    }
   ],
   "source": [
    "df_tags = read_csv(\"../data/raw/tags.csv\")\n",
    "df_tags.head()"
   ]
  },
  {
   "cell_type": "code",
   "execution_count": 9,
   "metadata": {
    "ExecuteTime": {
     "end_time": "2020-09-29T04:50:12.826885Z",
     "start_time": "2020-09-29T04:50:12.815757Z"
    },
    "scrolled": false
   },
   "outputs": [
    {
     "name": "stdout",
     "output_type": "stream",
     "text": [
      "<class 'pandas.core.frame.DataFrame'>\n",
      "RangeIndex: 3683 entries, 0 to 3682\n",
      "Data columns (total 4 columns):\n",
      " #   Column     Non-Null Count  Dtype \n",
      "---  ------     --------------  ----- \n",
      " 0   userId     3683 non-null   int64 \n",
      " 1   movieId    3683 non-null   int64 \n",
      " 2   tag        3683 non-null   object\n",
      " 3   timestamp  3683 non-null   int64 \n",
      "dtypes: int64(3), object(1)\n",
      "memory usage: 115.2+ KB\n"
     ]
    }
   ],
   "source": [
    "df_tags.info()"
   ]
  },
  {
   "cell_type": "code",
   "execution_count": 10,
   "metadata": {
    "ExecuteTime": {
     "end_time": "2020-09-29T04:50:12.845879Z",
     "start_time": "2020-09-29T04:50:12.830565Z"
    },
    "scrolled": true
   },
   "outputs": [
    {
     "data": {
      "text/plain": [
       "userId       False\n",
       "movieId      False\n",
       "tag          False\n",
       "timestamp    False\n",
       "dtype: bool"
      ]
     },
     "execution_count": 10,
     "metadata": {},
     "output_type": "execute_result"
    }
   ],
   "source": [
    "df_tags.isnull().any()"
   ]
  },
  {
   "cell_type": "markdown",
   "metadata": {
    "ExecuteTime": {
     "end_time": "2020-09-28T15:54:29.991221Z",
     "start_time": "2020-09-28T15:54:29.984664Z"
    }
   },
   "source": [
    "***Let's look deeper at the datasets given***<br>\n",
    "*column_name (type of column) \n",
    "    - description*\n",
    "\n",
    "\n",
    "The movies dataset contains the following columns :\n",
    "- movieId (int) \n",
    "    - A unique id for each movie\n",
    "- title (str) \n",
    "    - Name of the movie\n",
    "- genres (str) \n",
    "    - Genre/s seperated by |\n",
    "    - ***should probably use explode***\n",
    "    \n",
    "The ratings dataset contains the following columns :\n",
    "- userId (int)\n",
    "    - Unique id for each user\n",
    "- movieId (int) \n",
    "    - A unique id for each movie\n",
    "- rating (float)\n",
    "    - ratings of a movie given by a user\n",
    "    - On a 0-5 ratings\n",
    "- timestamp (int) \n",
    "    - seconds of when the ratings is posted\n",
    "\n",
    "The tags dataset contains the following columns :\n",
    "- userId (int)\n",
    "    - Unique id for each user\n",
    "- movieId (int) \n",
    "    - A unique id for each movie\n",
    "- tags (float)\n",
    "    - tags related to movie\n",
    "- timestamp (int) \n",
    "    - seconds of when the ratings is posted   \n",
    "<br>\n",
    "- No nulls rows\n",
    "\n",
    "***\n",
    "\n",
    "## Further data exploration!"
   ]
  },
  {
   "cell_type": "code",
   "execution_count": 11,
   "metadata": {
    "ExecuteTime": {
     "end_time": "2020-09-29T04:50:12.864721Z",
     "start_time": "2020-09-29T04:50:12.848915Z"
    },
    "scrolled": false
   },
   "outputs": [
    {
     "name": "stdout",
     "output_type": "stream",
     "text": [
      "There are 58 unique users\n",
      "Unique users are [  2   7  18  21  49  62  63  76 103 106 112 119 125 132 138 161 166 167\n",
      " 177 184 193 205 226 256 274 288 289 291 300 305 318 319 327 336 341 356\n",
      " 357 419 424 435 439 462 474 477 487 506 509 513 520 533 537 543 567 573\n",
      " 599 600 606 610] \n",
      "\n",
      "There are 1589 unique tags\n",
      "Unique tags are ['funny' 'Highly quotable' 'will ferrell' ... 'gun fu' 'heroic bloodshed'\n",
      " 'Heroic Bloodshed'] \n",
      "\n",
      "There are 9742 unique movie\n",
      "Unique movieId are [     1      2      3 ... 193585 193587 193609] \n",
      "\n",
      "['Big Green, The (1995)' 'Georgia (1995)' 'Home for the Holidays (1995)'\n",
      " 'Postman, The (Postino, Il) (1994)' 'Indian in the Cupboard, The (1995)'\n",
      " 'Eye for an Eye (1996)' \"Mr. Holland's Opus (1995)\"\n",
      " \"Don't Be a Menace to South Central While Drinking Your Juice in the Hood (1996)\"\n",
      " 'Two if by Sea (1996)' 'Bio-Dome (1996)'\n",
      " 'Lawnmower Man 2: Beyond Cyberspace (1996)']\n"
     ]
    }
   ],
   "source": [
    "print(f\"There are {len(df_tags.userId.unique())} unique users\")\n",
    "print(f\"Unique users are {df_tags.userId.unique()} \\n\")\n",
    "\n",
    "print(f\"There are {len(df_tags.tag.unique())} unique tags\")\n",
    "print(f\"Unique tags are {df_tags.tag.unique()} \\n\")\n",
    "\n",
    "print(f\"There are {len(df_movies.movieId.unique())} unique movie\")\n",
    "print(f\"Unique movieId are {df_movies.movieId.unique()} \\n\")\n",
    "\n",
    "print(df_movies.title.unique()[49:60])"
   ]
  },
  {
   "cell_type": "markdown",
   "metadata": {},
   "source": [
    "***Notice We want to delete year and , The in df_movie's title***"
   ]
  },
  {
   "cell_type": "code",
   "execution_count": 12,
   "metadata": {
    "ExecuteTime": {
     "end_time": "2020-09-29T04:50:12.943638Z",
     "start_time": "2020-09-29T04:50:12.866515Z"
    },
    "scrolled": false
   },
   "outputs": [
    {
     "data": {
      "text/html": [
       "<div>\n",
       "<style scoped>\n",
       "    .dataframe tbody tr th:only-of-type {\n",
       "        vertical-align: middle;\n",
       "    }\n",
       "\n",
       "    .dataframe tbody tr th {\n",
       "        vertical-align: top;\n",
       "    }\n",
       "\n",
       "    .dataframe thead th {\n",
       "        text-align: right;\n",
       "    }\n",
       "</style>\n",
       "<table border=\"1\" class=\"dataframe\">\n",
       "  <thead>\n",
       "    <tr style=\"text-align: right;\">\n",
       "      <th></th>\n",
       "      <th>movieId</th>\n",
       "      <th>title</th>\n",
       "      <th>genres</th>\n",
       "    </tr>\n",
       "  </thead>\n",
       "  <tbody>\n",
       "    <tr>\n",
       "      <th>0</th>\n",
       "      <td>1</td>\n",
       "      <td>toy story</td>\n",
       "      <td>adventure|animation|children|comedy|fantasy</td>\n",
       "    </tr>\n",
       "    <tr>\n",
       "      <th>1</th>\n",
       "      <td>2</td>\n",
       "      <td>jumanji</td>\n",
       "      <td>adventure|children|fantasy</td>\n",
       "    </tr>\n",
       "    <tr>\n",
       "      <th>2</th>\n",
       "      <td>3</td>\n",
       "      <td>grumpier old men</td>\n",
       "      <td>comedy|romance</td>\n",
       "    </tr>\n",
       "    <tr>\n",
       "      <th>3</th>\n",
       "      <td>4</td>\n",
       "      <td>waiting to exhale</td>\n",
       "      <td>comedy|drama|romance</td>\n",
       "    </tr>\n",
       "    <tr>\n",
       "      <th>4</th>\n",
       "      <td>5</td>\n",
       "      <td>father of the bride part ii</td>\n",
       "      <td>comedy</td>\n",
       "    </tr>\n",
       "  </tbody>\n",
       "</table>\n",
       "</div>"
      ],
      "text/plain": [
       "   movieId                        title  \\\n",
       "0        1                    toy story   \n",
       "1        2                      jumanji   \n",
       "2        3             grumpier old men   \n",
       "3        4            waiting to exhale   \n",
       "4        5  father of the bride part ii   \n",
       "\n",
       "                                        genres  \n",
       "0  adventure|animation|children|comedy|fantasy  \n",
       "1                   adventure|children|fantasy  \n",
       "2                               comedy|romance  \n",
       "3                         comedy|drama|romance  \n",
       "4                                       comedy  "
      ]
     },
     "execution_count": 12,
     "metadata": {},
     "output_type": "execute_result"
    }
   ],
   "source": [
    "df_movies['title'] = df_movies['title'].str.replace(r\"\\(.*?\\)\",\"\")\n",
    "df_movies['title'] = df_movies['title'].str.split(\",\").str[0]\n",
    "df_movies = df_movies.apply(lambda x: x.str.strip().str.lower() if x.dtype == \"object\" else x)\n",
    "\n",
    "df_movies.head()"
   ]
  },
  {
   "cell_type": "markdown",
   "metadata": {},
   "source": [
    "***Notice 'heroic bloodshed', 'Heroic Bloodshed' in unique tags. We have to make it all lower case***"
   ]
  },
  {
   "cell_type": "code",
   "execution_count": 13,
   "metadata": {
    "ExecuteTime": {
     "end_time": "2020-09-29T04:50:12.983452Z",
     "start_time": "2020-09-29T04:50:12.948190Z"
    },
    "scrolled": false
   },
   "outputs": [
    {
     "name": "stdout",
     "output_type": "stream",
     "text": [
      "There are 1471 unique tags\n",
      "Unique tags are ['funny' 'highly quotable' 'will ferrell' ... 'austere' 'gun fu'\n",
      " 'heroic bloodshed'] \n",
      "\n"
     ]
    }
   ],
   "source": [
    "# Remove all white spaces and change to lower case if col type is str\n",
    "df_tags = df_tags.apply(lambda x: x.str.strip().str.lower() if x.dtype == \"object\" else x)\n",
    "\n",
    "# remove punctutations\n",
    "df_tags['tag'] = df_tags['tag'].apply(lambda x: sub(r'[^\\w\\s]','', x))\n",
    "# remove non-ascii\n",
    "df_tags['tag'] = df_tags['tag'].apply(lambda x: ''.join([\" \" if ord(i) < 32 or ord(i) > 126 else i for i in str(x)]))\n",
    " \n",
    "print(f\"There are {len(df_tags.tag.unique())} unique tags\")\n",
    "print(f\"Unique tags are {df_tags.tag.unique()} \\n\")\n",
    "\n",
    "df_ratings = df_ratings.apply(lambda x: x.str.strip().str.lower() if x.dtype == \"object\" else x)"
   ]
  },
  {
   "cell_type": "markdown",
   "metadata": {
    "ExecuteTime": {
     "end_time": "2020-09-28T22:07:41.001937Z",
     "start_time": "2020-09-28T22:07:40.997869Z"
    }
   },
   "source": [
    "***Delete the useless timestamp columns***"
   ]
  },
  {
   "cell_type": "code",
   "execution_count": 14,
   "metadata": {
    "ExecuteTime": {
     "end_time": "2020-09-29T04:50:13.000776Z",
     "start_time": "2020-09-29T04:50:12.986725Z"
    }
   },
   "outputs": [],
   "source": [
    "# Data cleaning\n",
    "df_ratings.drop(\"timestamp\", axis=1, inplace=True)\n",
    "df_tags.drop(\"timestamp\", axis=1, inplace=True)"
   ]
  },
  {
   "cell_type": "markdown",
   "metadata": {},
   "source": [
    "***Change Col to list***<br>\n",
    "   First,Split the | to new columns"
   ]
  },
  {
   "cell_type": "code",
   "execution_count": 15,
   "metadata": {
    "ExecuteTime": {
     "end_time": "2020-09-29T04:50:13.023472Z",
     "start_time": "2020-09-29T04:50:13.005832Z"
    },
    "scrolled": true
   },
   "outputs": [
    {
     "data": {
      "text/plain": [
       "0    adventure animation children comedy fantasy\n",
       "1                     adventure children fantasy\n",
       "2                                 comedy romance\n",
       "3                           comedy drama romance\n",
       "4                                         comedy\n",
       "Name: genres, dtype: object"
      ]
     },
     "execution_count": 15,
     "metadata": {},
     "output_type": "execute_result"
    }
   ],
   "source": [
    "df_genre_vector= df_movies[\"genres\"].str.replace(\"|\", \" \")\n",
    "\n",
    "df_genre_vector.head()"
   ]
  },
  {
   "cell_type": "code",
   "execution_count": 16,
   "metadata": {
    "ExecuteTime": {
     "end_time": "2020-09-29T04:50:13.039389Z",
     "start_time": "2020-09-29T04:50:13.026901Z"
    },
    "scrolled": true
   },
   "outputs": [
    {
     "data": {
      "text/html": [
       "<div>\n",
       "<style scoped>\n",
       "    .dataframe tbody tr th:only-of-type {\n",
       "        vertical-align: middle;\n",
       "    }\n",
       "\n",
       "    .dataframe tbody tr th {\n",
       "        vertical-align: top;\n",
       "    }\n",
       "\n",
       "    .dataframe thead th {\n",
       "        text-align: right;\n",
       "    }\n",
       "</style>\n",
       "<table border=\"1\" class=\"dataframe\">\n",
       "  <thead>\n",
       "    <tr style=\"text-align: right;\">\n",
       "      <th></th>\n",
       "      <th>movieId</th>\n",
       "      <th>title</th>\n",
       "      <th>genres</th>\n",
       "    </tr>\n",
       "  </thead>\n",
       "  <tbody>\n",
       "    <tr>\n",
       "      <th>0</th>\n",
       "      <td>1</td>\n",
       "      <td>toy story</td>\n",
       "      <td>adventure animation children comedy fantasy</td>\n",
       "    </tr>\n",
       "    <tr>\n",
       "      <th>1</th>\n",
       "      <td>2</td>\n",
       "      <td>jumanji</td>\n",
       "      <td>adventure children fantasy</td>\n",
       "    </tr>\n",
       "    <tr>\n",
       "      <th>2</th>\n",
       "      <td>3</td>\n",
       "      <td>grumpier old men</td>\n",
       "      <td>comedy romance</td>\n",
       "    </tr>\n",
       "    <tr>\n",
       "      <th>3</th>\n",
       "      <td>4</td>\n",
       "      <td>waiting to exhale</td>\n",
       "      <td>comedy drama romance</td>\n",
       "    </tr>\n",
       "    <tr>\n",
       "      <th>4</th>\n",
       "      <td>5</td>\n",
       "      <td>father of the bride part ii</td>\n",
       "      <td>comedy</td>\n",
       "    </tr>\n",
       "  </tbody>\n",
       "</table>\n",
       "</div>"
      ],
      "text/plain": [
       "   movieId                        title  \\\n",
       "0        1                    toy story   \n",
       "1        2                      jumanji   \n",
       "2        3             grumpier old men   \n",
       "3        4            waiting to exhale   \n",
       "4        5  father of the bride part ii   \n",
       "\n",
       "                                        genres  \n",
       "0  adventure animation children comedy fantasy  \n",
       "1                   adventure children fantasy  \n",
       "2                               comedy romance  \n",
       "3                         comedy drama romance  \n",
       "4                                       comedy  "
      ]
     },
     "execution_count": 16,
     "metadata": {},
     "output_type": "execute_result"
    }
   ],
   "source": [
    "df_movies[\"genres\"] = df_genre_vector\n",
    "\n",
    "df_movies.head()"
   ]
  },
  {
   "cell_type": "markdown",
   "metadata": {},
   "source": [
    "***Combine tags with same userid and movieid into one row and Save to list***"
   ]
  },
  {
   "cell_type": "code",
   "execution_count": 17,
   "metadata": {
    "ExecuteTime": {
     "end_time": "2020-09-29T04:50:13.055720Z",
     "start_time": "2020-09-29T04:50:13.042406Z"
    },
    "scrolled": true
   },
   "outputs": [
    {
     "data": {
      "text/html": [
       "<div>\n",
       "<style scoped>\n",
       "    .dataframe tbody tr th:only-of-type {\n",
       "        vertical-align: middle;\n",
       "    }\n",
       "\n",
       "    .dataframe tbody tr th {\n",
       "        vertical-align: top;\n",
       "    }\n",
       "\n",
       "    .dataframe thead th {\n",
       "        text-align: right;\n",
       "    }\n",
       "</style>\n",
       "<table border=\"1\" class=\"dataframe\">\n",
       "  <thead>\n",
       "    <tr style=\"text-align: right;\">\n",
       "      <th></th>\n",
       "      <th>userId</th>\n",
       "      <th>movieId</th>\n",
       "      <th>tag</th>\n",
       "    </tr>\n",
       "  </thead>\n",
       "  <tbody>\n",
       "    <tr>\n",
       "      <th>0</th>\n",
       "      <td>2</td>\n",
       "      <td>60756</td>\n",
       "      <td>funny</td>\n",
       "    </tr>\n",
       "    <tr>\n",
       "      <th>1</th>\n",
       "      <td>2</td>\n",
       "      <td>60756</td>\n",
       "      <td>highly quotable</td>\n",
       "    </tr>\n",
       "    <tr>\n",
       "      <th>2</th>\n",
       "      <td>2</td>\n",
       "      <td>60756</td>\n",
       "      <td>will ferrell</td>\n",
       "    </tr>\n",
       "    <tr>\n",
       "      <th>3</th>\n",
       "      <td>2</td>\n",
       "      <td>89774</td>\n",
       "      <td>boxing story</td>\n",
       "    </tr>\n",
       "    <tr>\n",
       "      <th>4</th>\n",
       "      <td>2</td>\n",
       "      <td>89774</td>\n",
       "      <td>mma</td>\n",
       "    </tr>\n",
       "  </tbody>\n",
       "</table>\n",
       "</div>"
      ],
      "text/plain": [
       "   userId  movieId              tag\n",
       "0       2    60756            funny\n",
       "1       2    60756  highly quotable\n",
       "2       2    60756     will ferrell\n",
       "3       2    89774     boxing story\n",
       "4       2    89774              mma"
      ]
     },
     "execution_count": 17,
     "metadata": {},
     "output_type": "execute_result"
    }
   ],
   "source": [
    "df_tags.head()"
   ]
  },
  {
   "cell_type": "markdown",
   "metadata": {},
   "source": [
    "First, we have to group them according to the same userid and movieid to combine the tag to one row"
   ]
  },
  {
   "cell_type": "code",
   "execution_count": 18,
   "metadata": {
    "ExecuteTime": {
     "end_time": "2020-09-29T04:50:13.185740Z",
     "start_time": "2020-09-29T04:50:13.059344Z"
    },
    "scrolled": false
   },
   "outputs": [
    {
     "data": {
      "text/html": [
       "<div>\n",
       "<style scoped>\n",
       "    .dataframe tbody tr th:only-of-type {\n",
       "        vertical-align: middle;\n",
       "    }\n",
       "\n",
       "    .dataframe tbody tr th {\n",
       "        vertical-align: top;\n",
       "    }\n",
       "\n",
       "    .dataframe thead th {\n",
       "        text-align: right;\n",
       "    }\n",
       "</style>\n",
       "<table border=\"1\" class=\"dataframe\">\n",
       "  <thead>\n",
       "    <tr style=\"text-align: right;\">\n",
       "      <th></th>\n",
       "      <th>userId</th>\n",
       "      <th>movieId</th>\n",
       "      <th>tag</th>\n",
       "    </tr>\n",
       "  </thead>\n",
       "  <tbody>\n",
       "    <tr>\n",
       "      <th>0</th>\n",
       "      <td>2</td>\n",
       "      <td>60756</td>\n",
       "      <td>funny,highly quotable,will ferrell</td>\n",
       "    </tr>\n",
       "    <tr>\n",
       "      <th>1</th>\n",
       "      <td>2</td>\n",
       "      <td>89774</td>\n",
       "      <td>boxing story,mma,tom hardy</td>\n",
       "    </tr>\n",
       "    <tr>\n",
       "      <th>2</th>\n",
       "      <td>2</td>\n",
       "      <td>106782</td>\n",
       "      <td>drugs,leonardo dicaprio,martin scorsese</td>\n",
       "    </tr>\n",
       "    <tr>\n",
       "      <th>3</th>\n",
       "      <td>7</td>\n",
       "      <td>48516</td>\n",
       "      <td>way too long</td>\n",
       "    </tr>\n",
       "    <tr>\n",
       "      <th>4</th>\n",
       "      <td>18</td>\n",
       "      <td>431</td>\n",
       "      <td>al pacino,gangster,mafia</td>\n",
       "    </tr>\n",
       "    <tr>\n",
       "      <th>...</th>\n",
       "      <td>...</td>\n",
       "      <td>...</td>\n",
       "      <td>...</td>\n",
       "    </tr>\n",
       "    <tr>\n",
       "      <th>1770</th>\n",
       "      <td>606</td>\n",
       "      <td>6107</td>\n",
       "      <td>world war ii</td>\n",
       "    </tr>\n",
       "    <tr>\n",
       "      <th>1771</th>\n",
       "      <td>606</td>\n",
       "      <td>7382</td>\n",
       "      <td>for katie</td>\n",
       "    </tr>\n",
       "    <tr>\n",
       "      <th>1772</th>\n",
       "      <td>606</td>\n",
       "      <td>7936</td>\n",
       "      <td>austere</td>\n",
       "    </tr>\n",
       "    <tr>\n",
       "      <th>1773</th>\n",
       "      <td>610</td>\n",
       "      <td>3265</td>\n",
       "      <td>gun fu,heroic bloodshed</td>\n",
       "    </tr>\n",
       "    <tr>\n",
       "      <th>1774</th>\n",
       "      <td>610</td>\n",
       "      <td>168248</td>\n",
       "      <td>heroic bloodshed</td>\n",
       "    </tr>\n",
       "  </tbody>\n",
       "</table>\n",
       "<p>1775 rows × 3 columns</p>\n",
       "</div>"
      ],
      "text/plain": [
       "      userId  movieId                                      tag\n",
       "0          2    60756       funny,highly quotable,will ferrell\n",
       "1          2    89774               boxing story,mma,tom hardy\n",
       "2          2   106782  drugs,leonardo dicaprio,martin scorsese\n",
       "3          7    48516                             way too long\n",
       "4         18      431                 al pacino,gangster,mafia\n",
       "...      ...      ...                                      ...\n",
       "1770     606     6107                             world war ii\n",
       "1771     606     7382                                for katie\n",
       "1772     606     7936                                  austere\n",
       "1773     610     3265                  gun fu,heroic bloodshed\n",
       "1774     610   168248                         heroic bloodshed\n",
       "\n",
       "[1775 rows x 3 columns]"
      ]
     },
     "execution_count": 18,
     "metadata": {},
     "output_type": "execute_result"
    }
   ],
   "source": [
    "df_grouped_tags = df_tags.groupby([\"userId\",\"movieId\"])\n",
    "df_grouped_tags = df_grouped_tags[\"tag\"].apply(lambda x: \",\".join(x)).reset_index()\n",
    "\n",
    "df_grouped_tags"
   ]
  },
  {
   "cell_type": "code",
   "execution_count": 19,
   "metadata": {
    "ExecuteTime": {
     "end_time": "2020-09-29T04:50:13.213706Z",
     "start_time": "2020-09-29T04:50:13.188697Z"
    },
    "scrolled": false
   },
   "outputs": [
    {
     "data": {
      "text/html": [
       "<div>\n",
       "<style scoped>\n",
       "    .dataframe tbody tr th:only-of-type {\n",
       "        vertical-align: middle;\n",
       "    }\n",
       "\n",
       "    .dataframe tbody tr th {\n",
       "        vertical-align: top;\n",
       "    }\n",
       "\n",
       "    .dataframe thead th {\n",
       "        text-align: right;\n",
       "    }\n",
       "</style>\n",
       "<table border=\"1\" class=\"dataframe\">\n",
       "  <thead>\n",
       "    <tr style=\"text-align: right;\">\n",
       "      <th></th>\n",
       "      <th>userId</th>\n",
       "      <th>movieId</th>\n",
       "      <th>tag</th>\n",
       "    </tr>\n",
       "  </thead>\n",
       "  <tbody>\n",
       "    <tr>\n",
       "      <th>0</th>\n",
       "      <td>2</td>\n",
       "      <td>60756</td>\n",
       "      <td>[funny, highly quotable, will ferrell]</td>\n",
       "    </tr>\n",
       "    <tr>\n",
       "      <th>1</th>\n",
       "      <td>2</td>\n",
       "      <td>89774</td>\n",
       "      <td>[boxing story, mma, tom hardy]</td>\n",
       "    </tr>\n",
       "    <tr>\n",
       "      <th>2</th>\n",
       "      <td>2</td>\n",
       "      <td>106782</td>\n",
       "      <td>[drugs, leonardo dicaprio, martin scorsese]</td>\n",
       "    </tr>\n",
       "    <tr>\n",
       "      <th>3</th>\n",
       "      <td>7</td>\n",
       "      <td>48516</td>\n",
       "      <td>[way too long]</td>\n",
       "    </tr>\n",
       "    <tr>\n",
       "      <th>4</th>\n",
       "      <td>18</td>\n",
       "      <td>431</td>\n",
       "      <td>[al pacino, gangster, mafia]</td>\n",
       "    </tr>\n",
       "    <tr>\n",
       "      <th>...</th>\n",
       "      <td>...</td>\n",
       "      <td>...</td>\n",
       "      <td>...</td>\n",
       "    </tr>\n",
       "    <tr>\n",
       "      <th>1770</th>\n",
       "      <td>606</td>\n",
       "      <td>6107</td>\n",
       "      <td>[world war ii]</td>\n",
       "    </tr>\n",
       "    <tr>\n",
       "      <th>1771</th>\n",
       "      <td>606</td>\n",
       "      <td>7382</td>\n",
       "      <td>[for katie]</td>\n",
       "    </tr>\n",
       "    <tr>\n",
       "      <th>1772</th>\n",
       "      <td>606</td>\n",
       "      <td>7936</td>\n",
       "      <td>[austere]</td>\n",
       "    </tr>\n",
       "    <tr>\n",
       "      <th>1773</th>\n",
       "      <td>610</td>\n",
       "      <td>3265</td>\n",
       "      <td>[gun fu, heroic bloodshed]</td>\n",
       "    </tr>\n",
       "    <tr>\n",
       "      <th>1774</th>\n",
       "      <td>610</td>\n",
       "      <td>168248</td>\n",
       "      <td>[heroic bloodshed]</td>\n",
       "    </tr>\n",
       "  </tbody>\n",
       "</table>\n",
       "<p>1775 rows × 3 columns</p>\n",
       "</div>"
      ],
      "text/plain": [
       "      userId  movieId                                          tag\n",
       "0          2    60756       [funny, highly quotable, will ferrell]\n",
       "1          2    89774               [boxing story, mma, tom hardy]\n",
       "2          2   106782  [drugs, leonardo dicaprio, martin scorsese]\n",
       "3          7    48516                               [way too long]\n",
       "4         18      431                 [al pacino, gangster, mafia]\n",
       "...      ...      ...                                          ...\n",
       "1770     606     6107                               [world war ii]\n",
       "1771     606     7382                                  [for katie]\n",
       "1772     606     7936                                    [austere]\n",
       "1773     610     3265                   [gun fu, heroic bloodshed]\n",
       "1774     610   168248                           [heroic bloodshed]\n",
       "\n",
       "[1775 rows x 3 columns]"
      ]
     },
     "execution_count": 19,
     "metadata": {},
     "output_type": "execute_result"
    }
   ],
   "source": [
    "df_grouped_tags['tag'] = df_grouped_tags[\"tag\"].map(lambda x: x.split(','))\n",
    "# Replace the old dataframe with the new one\n",
    "df_tags = df_grouped_tags\n",
    "df_tags"
   ]
  },
  {
   "cell_type": "markdown",
   "metadata": {},
   "source": [
    "## Which columns to merge with? \n",
    "All three dataframe can be merge with the \"movieId\" column"
   ]
  },
  {
   "cell_type": "code",
   "execution_count": 20,
   "metadata": {
    "ExecuteTime": {
     "end_time": "2020-09-29T04:50:13.277764Z",
     "start_time": "2020-09-29T04:50:13.217031Z"
    },
    "scrolled": true
   },
   "outputs": [
    {
     "data": {
      "text/html": [
       "<div>\n",
       "<style scoped>\n",
       "    .dataframe tbody tr th:only-of-type {\n",
       "        vertical-align: middle;\n",
       "    }\n",
       "\n",
       "    .dataframe tbody tr th {\n",
       "        vertical-align: top;\n",
       "    }\n",
       "\n",
       "    .dataframe thead th {\n",
       "        text-align: right;\n",
       "    }\n",
       "</style>\n",
       "<table border=\"1\" class=\"dataframe\">\n",
       "  <thead>\n",
       "    <tr style=\"text-align: right;\">\n",
       "      <th></th>\n",
       "      <th>userId</th>\n",
       "      <th>movieId</th>\n",
       "      <th>rating</th>\n",
       "      <th>tag</th>\n",
       "    </tr>\n",
       "  </thead>\n",
       "  <tbody>\n",
       "    <tr>\n",
       "      <th>0</th>\n",
       "      <td>2</td>\n",
       "      <td>60756</td>\n",
       "      <td>5.0</td>\n",
       "      <td>[funny, highly quotable, will ferrell]</td>\n",
       "    </tr>\n",
       "    <tr>\n",
       "      <th>1</th>\n",
       "      <td>2</td>\n",
       "      <td>89774</td>\n",
       "      <td>5.0</td>\n",
       "      <td>[boxing story, mma, tom hardy]</td>\n",
       "    </tr>\n",
       "    <tr>\n",
       "      <th>2</th>\n",
       "      <td>2</td>\n",
       "      <td>106782</td>\n",
       "      <td>5.0</td>\n",
       "      <td>[drugs, leonardo dicaprio, martin scorsese]</td>\n",
       "    </tr>\n",
       "    <tr>\n",
       "      <th>3</th>\n",
       "      <td>7</td>\n",
       "      <td>48516</td>\n",
       "      <td>1.0</td>\n",
       "      <td>[way too long]</td>\n",
       "    </tr>\n",
       "    <tr>\n",
       "      <th>4</th>\n",
       "      <td>18</td>\n",
       "      <td>431</td>\n",
       "      <td>4.0</td>\n",
       "      <td>[al pacino, gangster, mafia]</td>\n",
       "    </tr>\n",
       "  </tbody>\n",
       "</table>\n",
       "</div>"
      ],
      "text/plain": [
       "   userId  movieId  rating                                          tag\n",
       "0       2    60756     5.0       [funny, highly quotable, will ferrell]\n",
       "1       2    89774     5.0               [boxing story, mma, tom hardy]\n",
       "2       2   106782     5.0  [drugs, leonardo dicaprio, martin scorsese]\n",
       "3       7    48516     1.0                               [way too long]\n",
       "4      18      431     4.0                 [al pacino, gangster, mafia]"
      ]
     },
     "execution_count": 20,
     "metadata": {},
     "output_type": "execute_result"
    }
   ],
   "source": [
    "df = df_ratings.merge(df_tags, on=[\"userId\",\"movieId\"], how=\"inner\")\n",
    "df.head()"
   ]
  },
  {
   "cell_type": "code",
   "execution_count": 21,
   "metadata": {
    "ExecuteTime": {
     "end_time": "2020-09-29T04:50:13.299987Z",
     "start_time": "2020-09-29T04:50:13.279658Z"
    },
    "scrolled": true
   },
   "outputs": [
    {
     "data": {
      "text/html": [
       "<div>\n",
       "<style scoped>\n",
       "    .dataframe tbody tr th:only-of-type {\n",
       "        vertical-align: middle;\n",
       "    }\n",
       "\n",
       "    .dataframe tbody tr th {\n",
       "        vertical-align: top;\n",
       "    }\n",
       "\n",
       "    .dataframe thead th {\n",
       "        text-align: right;\n",
       "    }\n",
       "</style>\n",
       "<table border=\"1\" class=\"dataframe\">\n",
       "  <thead>\n",
       "    <tr style=\"text-align: right;\">\n",
       "      <th></th>\n",
       "      <th>userId</th>\n",
       "      <th>movieId</th>\n",
       "      <th>rating</th>\n",
       "      <th>tag</th>\n",
       "      <th>title</th>\n",
       "      <th>genres</th>\n",
       "    </tr>\n",
       "  </thead>\n",
       "  <tbody>\n",
       "    <tr>\n",
       "      <th>1630</th>\n",
       "      <td>606</td>\n",
       "      <td>1357</td>\n",
       "      <td>4.0</td>\n",
       "      <td>[music]</td>\n",
       "      <td>shine</td>\n",
       "      <td>drama romance</td>\n",
       "    </tr>\n",
       "    <tr>\n",
       "      <th>1631</th>\n",
       "      <td>606</td>\n",
       "      <td>1948</td>\n",
       "      <td>3.5</td>\n",
       "      <td>[british]</td>\n",
       "      <td>tom jones</td>\n",
       "      <td>adventure comedy romance</td>\n",
       "    </tr>\n",
       "    <tr>\n",
       "      <th>1632</th>\n",
       "      <td>606</td>\n",
       "      <td>5694</td>\n",
       "      <td>3.0</td>\n",
       "      <td>[70mm]</td>\n",
       "      <td>staying alive</td>\n",
       "      <td>comedy drama musical</td>\n",
       "    </tr>\n",
       "    <tr>\n",
       "      <th>1633</th>\n",
       "      <td>606</td>\n",
       "      <td>6107</td>\n",
       "      <td>4.0</td>\n",
       "      <td>[world war ii]</td>\n",
       "      <td>night of the shooting stars</td>\n",
       "      <td>drama war</td>\n",
       "    </tr>\n",
       "    <tr>\n",
       "      <th>1634</th>\n",
       "      <td>610</td>\n",
       "      <td>3265</td>\n",
       "      <td>5.0</td>\n",
       "      <td>[gun fu, heroic bloodshed]</td>\n",
       "      <td>hard-boiled</td>\n",
       "      <td>action crime drama thriller</td>\n",
       "    </tr>\n",
       "  </tbody>\n",
       "</table>\n",
       "</div>"
      ],
      "text/plain": [
       "      userId  movieId  rating                         tag  \\\n",
       "1630     606     1357     4.0                     [music]   \n",
       "1631     606     1948     3.5                   [british]   \n",
       "1632     606     5694     3.0                      [70mm]   \n",
       "1633     606     6107     4.0              [world war ii]   \n",
       "1634     610     3265     5.0  [gun fu, heroic bloodshed]   \n",
       "\n",
       "                            title                       genres  \n",
       "1630                        shine                drama romance  \n",
       "1631                    tom jones     adventure comedy romance  \n",
       "1632                staying alive         comedy drama musical  \n",
       "1633  night of the shooting stars                    drama war  \n",
       "1634                  hard-boiled  action crime drama thriller  "
      ]
     },
     "execution_count": 21,
     "metadata": {},
     "output_type": "execute_result"
    }
   ],
   "source": [
    "df = df.merge(df_movies, on=[\"movieId\"], how=\"inner\")\n",
    "df.reset_index(drop=True, inplace=True)\n",
    "df.tail()"
   ]
  },
  {
   "cell_type": "code",
   "execution_count": 22,
   "metadata": {
    "ExecuteTime": {
     "end_time": "2020-09-29T04:50:15.817453Z",
     "start_time": "2020-09-29T04:50:13.302070Z"
    }
   },
   "outputs": [],
   "source": [
    "def clean_and_tokenize(doc: list):\n",
    "    \n",
    "    values_inside_list = \" \".join(doc)\n",
    "    # Seperate \"Hello world\" to [\"Hello\", \"world\"]\n",
    "    tokens = word_tokenize(values_inside_list.lower())\n",
    "    # Remove tokens that is not alpha and not a stop word\n",
    "    tokens = [word for word in tokens if word.isalpha() and not word in stopwords.words('english')]\n",
    "    return tokens\n",
    "\n",
    "tagged_docs = []\n",
    "for index, list_of_words in enumerate(df.tag.values):\n",
    "    temp_tagged_document = TaggedDocument(clean_and_tokenize(list_of_words), tags=[index])\n",
    "    tagged_docs.append(temp_tagged_document)"
   ]
  },
  {
   "cell_type": "markdown",
   "metadata": {},
   "source": [
    "## Let's make our doc2vec model"
   ]
  },
  {
   "cell_type": "code",
   "execution_count": 23,
   "metadata": {
    "ExecuteTime": {
     "end_time": "2020-09-29T04:50:16.484335Z",
     "start_time": "2020-09-29T04:50:15.822263Z"
    }
   },
   "outputs": [],
   "source": [
    "max_epochs = 50\n",
    "vec_size = 20\n",
    "alpha = 0.025\n",
    "min_alpha = 0.00025\n",
    "min_count = 1\n",
    "dm = 0 # If dm=0, distributed bag of words (PV-DBOW) is used; if dm=1,‘distributed memory’ (PV-DM) is used\n",
    "\n",
    "doc2vec_model = Doc2Vec(vector_size=vec_size, alpha=alpha, min_alpha=min_alpha, min_count=min_count, dm=dm) \n",
    "doc2vec_model.build_vocab(tagged_docs)"
   ]
  },
  {
   "cell_type": "markdown",
   "metadata": {},
   "source": [
    "## Train our doc2vec model with max_epochs (50)"
   ]
  },
  {
   "cell_type": "code",
   "execution_count": 24,
   "metadata": {
    "ExecuteTime": {
     "end_time": "2020-09-29T04:50:23.614624Z",
     "start_time": "2020-09-29T04:50:16.487599Z"
    },
    "scrolled": true
   },
   "outputs": [],
   "source": [
    "for epoch in range(max_epochs):\n",
    "    doc2vec_model.train(tagged_docs, \n",
    "                        total_examples = doc2vec_model.corpus_count, \n",
    "                        epochs = doc2vec_model.epochs)\n",
    "    # Reduce the alpa to try to reduce the model learning rate\n",
    "    doc2vec_model.alpha -= 0.0002\n",
    "    # No Decay as we fixed the learning rate\n",
    "    doc2vec_model.min_alpha = doc2vec_model.alpha"
   ]
  },
  {
   "cell_type": "markdown",
   "metadata": {},
   "source": [
    "# TEST OUT DOC2VEC RECOMMENDER SYSTEM\n",
    "\n",
    "***Change the list below to try***"
   ]
  },
  {
   "cell_type": "markdown",
   "metadata": {},
   "source": [
    "***We want to seperate the year from the title and delete the year after the extracting the year***"
   ]
  },
  {
   "cell_type": "code",
   "execution_count": 25,
   "metadata": {
    "ExecuteTime": {
     "end_time": "2020-09-29T04:50:23.620885Z",
     "start_time": "2020-09-29T04:50:23.616586Z"
    }
   },
   "outputs": [
    {
     "name": "stdout",
     "output_type": "stream",
     "text": [
      "User has watched this/ese movies: \n",
      "toy story\n"
     ]
    }
   ],
   "source": [
    "# Change only this line\n",
    "movie_that_user_has_watched = [\"toy story\"]\n",
    "\n",
    "\n",
    "print(f\"User has watched this/ese movies: \")\n",
    "print(*movie_that_user_has_watched, sep=\"\\n\")"
   ]
  },
  {
   "cell_type": "code",
   "execution_count": 26,
   "metadata": {
    "ExecuteTime": {
     "end_time": "2020-09-29T04:50:23.636893Z",
     "start_time": "2020-09-29T04:50:23.624174Z"
    },
    "scrolled": true
   },
   "outputs": [
    {
     "name": "stdout",
     "output_type": "stream",
     "text": [
      "DOC2VEC RECOMMENDER SYSTEM RECOMMENDS:\n",
      "\n",
      "big\n",
      "children of the damned\n",
      "holes\n",
      "bad seed\n",
      "official story\n",
      "bug's life\n",
      "up\n",
      "village of the damned\n",
      "toy story 2\n"
     ]
    }
   ],
   "source": [
    "list_movie_index = []\n",
    "for movie in movie_that_user_has_watched:\n",
    "    df_index = df[df[\"title\"] == movie].index.values[0] \n",
    "    list_movie_index.append(df_index)\n",
    "\n",
    "\n",
    "# Use cosine similarity to find out which movie is similar\n",
    "movie_by_doc2vec = doc2vec_model.docvecs.most_similar(positive = list_movie_index , topn = 10)\n",
    "\n",
    "# Clean the output given by doc2vec\n",
    "# To make sure that there is no duplicate value\n",
    "unique_recommended_movie = set() \n",
    "for i, _ in list(set(movie_by_doc2vec)):\n",
    "    movie_name = df.loc[int(i), \"title\"]\n",
    "    if movie_name in movie_that_user_has_watched:\n",
    "        continue\n",
    "    unique_recommended_movie.add(movie_name)\n",
    "\n",
    "print(\"DOC2VEC RECOMMENDER SYSTEM RECOMMENDS:\\n\")\n",
    "print(*unique_recommended_movie, sep=\"\\n\")"
   ]
  },
  {
   "cell_type": "code",
   "execution_count": 27,
   "metadata": {
    "ExecuteTime": {
     "end_time": "2020-09-29T04:50:23.719569Z",
     "start_time": "2020-09-29T04:50:23.640971Z"
    },
    "scrolled": true
   },
   "outputs": [
    {
     "name": "stdout",
     "output_type": "stream",
     "text": [
      "<class 'scipy.sparse.csr.csr_matrix'>\n"
     ]
    },
    {
     "data": {
      "text/plain": [
       "array([[0, 0, 0, ..., 0, 0, 0],\n",
       "       [0, 0, 0, ..., 0, 0, 0],\n",
       "       [0, 0, 0, ..., 0, 0, 0],\n",
       "       ...,\n",
       "       [0, 0, 0, ..., 0, 0, 0],\n",
       "       [0, 0, 0, ..., 0, 1, 0],\n",
       "       [1, 0, 0, ..., 1, 0, 0]])"
      ]
     },
     "execution_count": 27,
     "metadata": {},
     "output_type": "execute_result"
    }
   ],
   "source": [
    "from sklearn.feature_extraction.text import CountVectorizer\n",
    "from scipy.sparse import csr_matrix, hstack\n",
    "from sklearn.cluster import KMeans\n",
    "count_vectorizer = CountVectorizer(stop_words=stopwords.words('english'), max_features=100)\n",
    "vectorizer_genres = count_vectorizer.fit_transform(df[\"genres\"])\n",
    "print(type(vectorizer_genres))\n",
    "vectorizer_genres.toarray()"
   ]
  },
  {
   "cell_type": "code",
   "execution_count": 28,
   "metadata": {
    "ExecuteTime": {
     "end_time": "2020-09-29T04:50:23.742706Z",
     "start_time": "2020-09-29T04:50:23.723512Z"
    }
   },
   "outputs": [
    {
     "data": {
      "text/html": [
       "<div>\n",
       "<style scoped>\n",
       "    .dataframe tbody tr th:only-of-type {\n",
       "        vertical-align: middle;\n",
       "    }\n",
       "\n",
       "    .dataframe tbody tr th {\n",
       "        vertical-align: top;\n",
       "    }\n",
       "\n",
       "    .dataframe thead th {\n",
       "        text-align: right;\n",
       "    }\n",
       "</style>\n",
       "<table border=\"1\" class=\"dataframe\">\n",
       "  <thead>\n",
       "    <tr style=\"text-align: right;\">\n",
       "      <th></th>\n",
       "      <th>userId</th>\n",
       "      <th>movieId</th>\n",
       "      <th>rating</th>\n",
       "    </tr>\n",
       "  </thead>\n",
       "  <tbody>\n",
       "    <tr>\n",
       "      <th>0</th>\n",
       "      <td>2</td>\n",
       "      <td>60756</td>\n",
       "      <td>5.0</td>\n",
       "    </tr>\n",
       "    <tr>\n",
       "      <th>1</th>\n",
       "      <td>62</td>\n",
       "      <td>60756</td>\n",
       "      <td>3.5</td>\n",
       "    </tr>\n",
       "    <tr>\n",
       "      <th>2</th>\n",
       "      <td>424</td>\n",
       "      <td>60756</td>\n",
       "      <td>4.0</td>\n",
       "    </tr>\n",
       "    <tr>\n",
       "      <th>3</th>\n",
       "      <td>2</td>\n",
       "      <td>89774</td>\n",
       "      <td>5.0</td>\n",
       "    </tr>\n",
       "    <tr>\n",
       "      <th>4</th>\n",
       "      <td>2</td>\n",
       "      <td>106782</td>\n",
       "      <td>5.0</td>\n",
       "    </tr>\n",
       "  </tbody>\n",
       "</table>\n",
       "</div>"
      ],
      "text/plain": [
       "   userId  movieId  rating\n",
       "0       2    60756     5.0\n",
       "1      62    60756     3.5\n",
       "2     424    60756     4.0\n",
       "3       2    89774     5.0\n",
       "4       2   106782     5.0"
      ]
     },
     "execution_count": 28,
     "metadata": {},
     "output_type": "execute_result"
    }
   ],
   "source": [
    "df_temp = df.loc[:, (df.columns != 'title') & (df.columns != 'genres') & (df.columns != 'tag')]\n",
    "df_temp.head()"
   ]
  },
  {
   "cell_type": "code",
   "execution_count": 29,
   "metadata": {
    "ExecuteTime": {
     "end_time": "2020-09-29T04:50:23.761745Z",
     "start_time": "2020-09-29T04:50:23.746646Z"
    },
    "scrolled": false
   },
   "outputs": [
    {
     "data": {
      "text/plain": [
       "<1635x26 sparse matrix of type '<class 'numpy.float64'>'\n",
       "\twith 9118 stored elements in COOrdinate format>"
      ]
     },
     "execution_count": 29,
     "metadata": {},
     "output_type": "execute_result"
    }
   ],
   "source": [
    "X = hstack([csr_matrix(df_temp),vectorizer_genres])\n",
    "X # input"
   ]
  },
  {
   "cell_type": "code",
   "execution_count": 30,
   "metadata": {
    "ExecuteTime": {
     "end_time": "2020-09-29T04:50:23.773872Z",
     "start_time": "2020-09-29T04:50:23.765109Z"
    }
   },
   "outputs": [
    {
     "data": {
      "text/plain": [
       "array(['step brothers', 'step brothers', 'step brothers', ...,\n",
       "       'staying alive', 'night of the shooting stars', 'hard-boiled'],\n",
       "      dtype=object)"
      ]
     },
     "execution_count": 30,
     "metadata": {},
     "output_type": "execute_result"
    }
   ],
   "source": [
    "Y = df.title.values\n",
    "Y # output"
   ]
  },
  {
   "cell_type": "code",
   "execution_count": 42,
   "metadata": {
    "ExecuteTime": {
     "end_time": "2020-09-29T04:54:57.198473Z",
     "start_time": "2020-09-29T04:54:57.191723Z"
    }
   },
   "outputs": [],
   "source": [
    "def elbow_method(X, max_category): \n",
    "    inertia_list =[]\n",
    "    ks = list(range(1,max_category))\n",
    "    # Assume the max number of cluster would be 10\n",
    "    for k in ks:\n",
    "        kmeans = KMeans(n_clusters= k, init='random')\n",
    "        kmeans.fit(X)\n",
    "        inertia_list.append(kmeans.inertia_)\n",
    "    \n",
    "    def get_elbow_curve(y_axis_list):\n",
    "        # get the list of coordinates\n",
    "        num_points = len(y_axis_list)\n",
    "        # add index to the errors by combining them [ [range(0,19)], [Errors] ]\n",
    "        all_coords = np.vstack((range(num_points), y_axis_list))\n",
    "        # Tranform into [ [0, Errors[0], [..,..]]]\n",
    "        all_coords = all_coords.T\n",
    "\n",
    "        #get the vector line that we will be comparing to\n",
    "        vector = all_coords[-1] - all_coords[0]\n",
    "        # Eculidian Norm \n",
    "        vector_norm = vector / np.sqrt(np.sum(vector**2))\n",
    "\n",
    "\n",
    "        vector_from_first_point = all_coords - all_coords[0]\n",
    "        # repmat to produce the vector_norm 18 times and * vector and rmbrt to add axis 1 to remain [ ... ,... ]\n",
    "        dot_product = np.sum(vector_from_first_point * np.matlib.repmat(vector_norm, num_points, 1), axis=1)\n",
    "        #  a = [a0, a1, ..., aM] , b = [b0, b1, ..., bN][\n",
    "        # [a0*b0  a0*b1 ... a0*bN ]\n",
    "        # [a1*b0    .\n",
    "        #[ ...          .\n",
    "        #[aM*b0            aM*bN ]] returns out[i,j] = a[i]*b[j]\n",
    "        vec_from_first_parallel = np.outer(dot_product, vector_norm)\n",
    "\n",
    "\n",
    "        vector_to_line = vector_from_first_point - vec_from_first_parallel\n",
    "        distance_to_line = np.sqrt(np.sum(vector_to_line ** 2, axis=1))\n",
    "        best_index = np.argmax(distance_to_line)\n",
    "        return best_index\n",
    "    \n",
    "    # Find the elbow with our function\n",
    "    elbow_index_of_k_mean = get_elbow_curve(inertia_list)\n",
    "    plot( ks , inertia_list , \"-x\")\n",
    "    plot( ks[elbow_index_of_k_mean] , inertia_list[elbow_index_of_k_mean],\"-o\")\n",
    "    title('The Elbow Method')\n",
    "    xlabel(\"Number of clusters, K\")\n",
    "    ylabel(\"Inertia\")\n",
    "    show()\n"
   ]
  },
  {
   "cell_type": "code",
   "execution_count": 50,
   "metadata": {
    "ExecuteTime": {
     "end_time": "2020-09-29T04:56:52.877305Z",
     "start_time": "2020-09-29T04:56:51.731151Z"
    },
    "scrolled": false
   },
   "outputs": [
    {
     "data": {
      "image/png": "[encoded data removed]",
      "text/plain": [
       "<Figure size 432x288 with 1 Axes>"
      ]
     },
     "metadata": {
      "needs_background": "light"
     },
     "output_type": "display_data"
    }
   ],
   "source": [
    "elbow_method(X,11)"
   ]
  },
  {
   "cell_type": "markdown",
   "metadata": {},
   "source": [
    "Like our function suggest k=3, we can try k=3"
   ]
  },
  {
   "cell_type": "code",
   "execution_count": 53,
   "metadata": {
    "ExecuteTime": {
     "end_time": "2020-09-29T04:59:32.829576Z",
     "start_time": "2020-09-29T04:59:32.826161Z"
    }
   },
   "outputs": [],
   "source": [
    "def k_mean_cluster(k):\n",
    "    kmeans = KMeans(n_clusters=k, random_state=0)\n",
    "    labels = kmeans.fit_predict(X)\n",
    "    \n",
    "    kmeans_pred_labels = kmeans.labels_\n",
    "    kmeans_cm = confusion_matrix(labels, kmeans_pred_labels)\n",
    "    print(f\"K={k} KMean confusion matrix:\")\n",
    "    print(kmeans_cm)\n",
    "    kmeans_acc = accuracy_score(labels,kmeans_pred_labels)\n",
    "    print(f\"K={k} KMean accuracy: \" + str(kmeans_acc) +\"\\n\")"
   ]
  },
  {
   "cell_type": "code",
   "execution_count": 54,
   "metadata": {
    "ExecuteTime": {
     "end_time": "2020-09-29T04:59:34.313500Z",
     "start_time": "2020-09-29T04:59:34.256311Z"
    },
    "scrolled": true
   },
   "outputs": [
    {
     "name": "stdout",
     "output_type": "stream",
     "text": [
      "K=3 KMean confusion matrix:\n",
      "[[ 187    0    0]\n",
      " [   0 1321    0]\n",
      " [   0    0  127]]\n",
      "K=3 KMean accuracy: 1.0\n",
      "\n"
     ]
    }
   ],
   "source": [
    "k_mean_cluster(3)"
   ]
  },
  {
   "cell_type": "markdown",
   "metadata": {},
   "source": [
    "## Summary\n",
    "\n",
    "DOC2VEC Model works better because KMean gives us an accuracy of 1.0 (which is a problem)"
   ]
  }
 ],
 "metadata": {
  "kernelspec": {
   "display_name": "Python 3",
   "language": "python",
   "name": "python3"
  },
  "language_info": {
   "codemirror_mode": {
    "name": "ipython",
    "version": 3
   },
   "file_extension": ".py",
   "mimetype": "text/x-python",
   "name": "python",
   "nbconvert_exporter": "python",
   "pygments_lexer": "ipython3",
   "version": "3.6.10"
  },
  "varInspector": {
   "cols": {
    "lenName": 16,
    "lenType": 16,
    "lenVar": 40
   },
   "kernels_config": {
    "python": {
     "delete_cmd_postfix": "",
     "delete_cmd_prefix": "del ",
     "library": "var_list.py",
     "varRefreshCmd": "print(var_dic_list())"
    },
    "r": {
     "delete_cmd_postfix": ") ",
     "delete_cmd_prefix": "rm(",
     "library": "var_list.r",
     "varRefreshCmd": "cat(var_dic_list()) "
    }
   },
   "types_to_exclude": [
    "module",
    "function",
    "builtin_function_or_method",
    "instance",
    "_Feature"
   ],
   "window_display": false
  }
 },
 "nbformat": 4,
 "nbformat_minor": 4
}
