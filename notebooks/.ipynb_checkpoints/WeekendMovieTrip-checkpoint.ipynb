{
 "cells": [
  {
   "cell_type": "markdown",
   "metadata": {},
   "source": [
    "# EECS731\n",
    "## Project 3 - Weekend Movie Trip\n",
    "\n",
    "Blockbuster or art film?\n",
    "1. Set up a data science project structure in a new git repository in your GitHub account\n",
    "2. Download the one of the MovieLens datasets from https://grouplens.org/datasets/movielens/\n",
    "3. Load the data set into panda data frames\n",
    "4. Formulate one or two ideas on how the combination of ratings and tags by users helps the data set to establish additional value using exploratory data analysis\n",
    "5. Build one or more clustering models to determine similar movies to recommend using the other ratings and tags of movies by other users as features\n",
    "6. Document your process and results\n",
    "7. Commit your notebook, source code, visualizations and other supporting files to the git repository in GitHub\n",
    "<br>\n",
    "***"
   ]
  },
  {
   "cell_type": "code",
   "execution_count": 1,
   "metadata": {
    "ExecuteTime": {
     "end_time": "2020-09-29T02:01:43.459129Z",
     "start_time": "2020-09-29T02:01:42.194925Z"
    }
   },
   "outputs": [],
   "source": [
    "from pandas import read_csv, Series, pivot_table, get_dummies\n",
    "from re import sub\n",
    "from sklearn.model_selection import train_test_split\n",
    "from sklearn.utils import shuffle\n",
    "from gensim.models.doc2vec import Doc2Vec, TaggedDocument\n",
    "from nltk.tokenize import word_tokenize\n",
    "from nltk.corpus import stopwords\n",
    "from numpy import zeros\n",
    "\n",
    "from sklearn import utils\n",
    "from sklearn.model_selection import train_test_split\n",
    "from sklearn.linear_model import LogisticRegression\n",
    "from sklearn.ensemble import RandomForestClassifier\n",
    "from sklearn.neighbors import KNeighborsClassifier\n",
    "from sklearn.metrics import accuracy_score, f1_score"
   ]
  },
  {
   "cell_type": "code",
   "execution_count": 2,
   "metadata": {
    "ExecuteTime": {
     "end_time": "2020-09-29T02:01:43.496048Z",
     "start_time": "2020-09-29T02:01:43.460760Z"
    },
    "scrolled": true
   },
   "outputs": [
    {
     "data": {
      "text/html": [
       "<div>\n",
       "<style scoped>\n",
       "    .dataframe tbody tr th:only-of-type {\n",
       "        vertical-align: middle;\n",
       "    }\n",
       "\n",
       "    .dataframe tbody tr th {\n",
       "        vertical-align: top;\n",
       "    }\n",
       "\n",
       "    .dataframe thead th {\n",
       "        text-align: right;\n",
       "    }\n",
       "</style>\n",
       "<table border=\"1\" class=\"dataframe\">\n",
       "  <thead>\n",
       "    <tr style=\"text-align: right;\">\n",
       "      <th></th>\n",
       "      <th>movieId</th>\n",
       "      <th>title</th>\n",
       "      <th>genres</th>\n",
       "    </tr>\n",
       "  </thead>\n",
       "  <tbody>\n",
       "    <tr>\n",
       "      <th>0</th>\n",
       "      <td>1</td>\n",
       "      <td>Toy Story (1995)</td>\n",
       "      <td>Adventure|Animation|Children|Comedy|Fantasy</td>\n",
       "    </tr>\n",
       "    <tr>\n",
       "      <th>1</th>\n",
       "      <td>2</td>\n",
       "      <td>Jumanji (1995)</td>\n",
       "      <td>Adventure|Children|Fantasy</td>\n",
       "    </tr>\n",
       "    <tr>\n",
       "      <th>2</th>\n",
       "      <td>3</td>\n",
       "      <td>Grumpier Old Men (1995)</td>\n",
       "      <td>Comedy|Romance</td>\n",
       "    </tr>\n",
       "    <tr>\n",
       "      <th>3</th>\n",
       "      <td>4</td>\n",
       "      <td>Waiting to Exhale (1995)</td>\n",
       "      <td>Comedy|Drama|Romance</td>\n",
       "    </tr>\n",
       "    <tr>\n",
       "      <th>4</th>\n",
       "      <td>5</td>\n",
       "      <td>Father of the Bride Part II (1995)</td>\n",
       "      <td>Comedy</td>\n",
       "    </tr>\n",
       "  </tbody>\n",
       "</table>\n",
       "</div>"
      ],
      "text/plain": [
       "   movieId                               title  \\\n",
       "0        1                    Toy Story (1995)   \n",
       "1        2                      Jumanji (1995)   \n",
       "2        3             Grumpier Old Men (1995)   \n",
       "3        4            Waiting to Exhale (1995)   \n",
       "4        5  Father of the Bride Part II (1995)   \n",
       "\n",
       "                                        genres  \n",
       "0  Adventure|Animation|Children|Comedy|Fantasy  \n",
       "1                   Adventure|Children|Fantasy  \n",
       "2                               Comedy|Romance  \n",
       "3                         Comedy|Drama|Romance  \n",
       "4                                       Comedy  "
      ]
     },
     "execution_count": 2,
     "metadata": {},
     "output_type": "execute_result"
    }
   ],
   "source": [
    "df_movies = read_csv(\"../data/raw/movies.csv\")\n",
    "df_movies.head()"
   ]
  },
  {
   "cell_type": "code",
   "execution_count": 3,
   "metadata": {
    "ExecuteTime": {
     "end_time": "2020-09-29T02:01:43.508905Z",
     "start_time": "2020-09-29T02:01:43.500554Z"
    }
   },
   "outputs": [
    {
     "name": "stdout",
     "output_type": "stream",
     "text": [
      "<class 'pandas.core.frame.DataFrame'>\n",
      "RangeIndex: 9742 entries, 0 to 9741\n",
      "Data columns (total 3 columns):\n",
      " #   Column   Non-Null Count  Dtype \n",
      "---  ------   --------------  ----- \n",
      " 0   movieId  9742 non-null   int64 \n",
      " 1   title    9742 non-null   object\n",
      " 2   genres   9742 non-null   object\n",
      "dtypes: int64(1), object(2)\n",
      "memory usage: 228.5+ KB\n"
     ]
    }
   ],
   "source": [
    "df_movies.info()"
   ]
  },
  {
   "cell_type": "code",
   "execution_count": 4,
   "metadata": {
    "ExecuteTime": {
     "end_time": "2020-09-29T02:01:43.517176Z",
     "start_time": "2020-09-29T02:01:43.510535Z"
    }
   },
   "outputs": [
    {
     "data": {
      "text/plain": [
       "movieId    False\n",
       "title      False\n",
       "genres     False\n",
       "dtype: bool"
      ]
     },
     "execution_count": 4,
     "metadata": {},
     "output_type": "execute_result"
    }
   ],
   "source": [
    "df_movies.isnull().any()"
   ]
  },
  {
   "cell_type": "code",
   "execution_count": 5,
   "metadata": {
    "ExecuteTime": {
     "end_time": "2020-09-29T02:01:43.561715Z",
     "start_time": "2020-09-29T02:01:43.519052Z"
    },
    "scrolled": true
   },
   "outputs": [
    {
     "data": {
      "text/html": [
       "<div>\n",
       "<style scoped>\n",
       "    .dataframe tbody tr th:only-of-type {\n",
       "        vertical-align: middle;\n",
       "    }\n",
       "\n",
       "    .dataframe tbody tr th {\n",
       "        vertical-align: top;\n",
       "    }\n",
       "\n",
       "    .dataframe thead th {\n",
       "        text-align: right;\n",
       "    }\n",
       "</style>\n",
       "<table border=\"1\" class=\"dataframe\">\n",
       "  <thead>\n",
       "    <tr style=\"text-align: right;\">\n",
       "      <th></th>\n",
       "      <th>userId</th>\n",
       "      <th>movieId</th>\n",
       "      <th>rating</th>\n",
       "      <th>timestamp</th>\n",
       "    </tr>\n",
       "  </thead>\n",
       "  <tbody>\n",
       "    <tr>\n",
       "      <th>0</th>\n",
       "      <td>1</td>\n",
       "      <td>1</td>\n",
       "      <td>4.0</td>\n",
       "      <td>964982703</td>\n",
       "    </tr>\n",
       "    <tr>\n",
       "      <th>1</th>\n",
       "      <td>1</td>\n",
       "      <td>3</td>\n",
       "      <td>4.0</td>\n",
       "      <td>964981247</td>\n",
       "    </tr>\n",
       "    <tr>\n",
       "      <th>2</th>\n",
       "      <td>1</td>\n",
       "      <td>6</td>\n",
       "      <td>4.0</td>\n",
       "      <td>964982224</td>\n",
       "    </tr>\n",
       "    <tr>\n",
       "      <th>3</th>\n",
       "      <td>1</td>\n",
       "      <td>47</td>\n",
       "      <td>5.0</td>\n",
       "      <td>964983815</td>\n",
       "    </tr>\n",
       "    <tr>\n",
       "      <th>4</th>\n",
       "      <td>1</td>\n",
       "      <td>50</td>\n",
       "      <td>5.0</td>\n",
       "      <td>964982931</td>\n",
       "    </tr>\n",
       "  </tbody>\n",
       "</table>\n",
       "</div>"
      ],
      "text/plain": [
       "   userId  movieId  rating  timestamp\n",
       "0       1        1     4.0  964982703\n",
       "1       1        3     4.0  964981247\n",
       "2       1        6     4.0  964982224\n",
       "3       1       47     5.0  964983815\n",
       "4       1       50     5.0  964982931"
      ]
     },
     "execution_count": 5,
     "metadata": {},
     "output_type": "execute_result"
    }
   ],
   "source": [
    "df_ratings = read_csv(\"../data/raw/ratings.csv\")\n",
    "df_ratings.head()"
   ]
  },
  {
   "cell_type": "code",
   "execution_count": 6,
   "metadata": {
    "ExecuteTime": {
     "end_time": "2020-09-29T02:01:43.574465Z",
     "start_time": "2020-09-29T02:01:43.563250Z"
    },
    "scrolled": true
   },
   "outputs": [
    {
     "name": "stdout",
     "output_type": "stream",
     "text": [
      "<class 'pandas.core.frame.DataFrame'>\n",
      "RangeIndex: 100836 entries, 0 to 100835\n",
      "Data columns (total 4 columns):\n",
      " #   Column     Non-Null Count   Dtype  \n",
      "---  ------     --------------   -----  \n",
      " 0   userId     100836 non-null  int64  \n",
      " 1   movieId    100836 non-null  int64  \n",
      " 2   rating     100836 non-null  float64\n",
      " 3   timestamp  100836 non-null  int64  \n",
      "dtypes: float64(1), int64(3)\n",
      "memory usage: 3.1 MB\n"
     ]
    }
   ],
   "source": [
    "df_ratings.info()"
   ]
  },
  {
   "cell_type": "code",
   "execution_count": 7,
   "metadata": {
    "ExecuteTime": {
     "end_time": "2020-09-29T02:01:43.582593Z",
     "start_time": "2020-09-29T02:01:43.577355Z"
    }
   },
   "outputs": [
    {
     "data": {
      "text/plain": [
       "userId       False\n",
       "movieId      False\n",
       "rating       False\n",
       "timestamp    False\n",
       "dtype: bool"
      ]
     },
     "execution_count": 7,
     "metadata": {},
     "output_type": "execute_result"
    }
   ],
   "source": [
    "df_ratings.isnull().any()"
   ]
  },
  {
   "cell_type": "code",
   "execution_count": 8,
   "metadata": {
    "ExecuteTime": {
     "end_time": "2020-09-29T02:01:43.598747Z",
     "start_time": "2020-09-29T02:01:43.585104Z"
    },
    "scrolled": true
   },
   "outputs": [
    {
     "data": {
      "text/html": [
       "<div>\n",
       "<style scoped>\n",
       "    .dataframe tbody tr th:only-of-type {\n",
       "        vertical-align: middle;\n",
       "    }\n",
       "\n",
       "    .dataframe tbody tr th {\n",
       "        vertical-align: top;\n",
       "    }\n",
       "\n",
       "    .dataframe thead th {\n",
       "        text-align: right;\n",
       "    }\n",
       "</style>\n",
       "<table border=\"1\" class=\"dataframe\">\n",
       "  <thead>\n",
       "    <tr style=\"text-align: right;\">\n",
       "      <th></th>\n",
       "      <th>userId</th>\n",
       "      <th>movieId</th>\n",
       "      <th>tag</th>\n",
       "      <th>timestamp</th>\n",
       "    </tr>\n",
       "  </thead>\n",
       "  <tbody>\n",
       "    <tr>\n",
       "      <th>0</th>\n",
       "      <td>2</td>\n",
       "      <td>60756</td>\n",
       "      <td>funny</td>\n",
       "      <td>1445714994</td>\n",
       "    </tr>\n",
       "    <tr>\n",
       "      <th>1</th>\n",
       "      <td>2</td>\n",
       "      <td>60756</td>\n",
       "      <td>Highly quotable</td>\n",
       "      <td>1445714996</td>\n",
       "    </tr>\n",
       "    <tr>\n",
       "      <th>2</th>\n",
       "      <td>2</td>\n",
       "      <td>60756</td>\n",
       "      <td>will ferrell</td>\n",
       "      <td>1445714992</td>\n",
       "    </tr>\n",
       "    <tr>\n",
       "      <th>3</th>\n",
       "      <td>2</td>\n",
       "      <td>89774</td>\n",
       "      <td>Boxing story</td>\n",
       "      <td>1445715207</td>\n",
       "    </tr>\n",
       "    <tr>\n",
       "      <th>4</th>\n",
       "      <td>2</td>\n",
       "      <td>89774</td>\n",
       "      <td>MMA</td>\n",
       "      <td>1445715200</td>\n",
       "    </tr>\n",
       "  </tbody>\n",
       "</table>\n",
       "</div>"
      ],
      "text/plain": [
       "   userId  movieId              tag   timestamp\n",
       "0       2    60756            funny  1445714994\n",
       "1       2    60756  Highly quotable  1445714996\n",
       "2       2    60756     will ferrell  1445714992\n",
       "3       2    89774     Boxing story  1445715207\n",
       "4       2    89774              MMA  1445715200"
      ]
     },
     "execution_count": 8,
     "metadata": {},
     "output_type": "execute_result"
    }
   ],
   "source": [
    "df_tags = read_csv(\"../data/raw/tags.csv\")\n",
    "df_tags.head()"
   ]
  },
  {
   "cell_type": "code",
   "execution_count": 9,
   "metadata": {
    "ExecuteTime": {
     "end_time": "2020-09-29T02:01:43.609363Z",
     "start_time": "2020-09-29T02:01:43.600735Z"
    },
    "scrolled": false
   },
   "outputs": [
    {
     "name": "stdout",
     "output_type": "stream",
     "text": [
      "<class 'pandas.core.frame.DataFrame'>\n",
      "RangeIndex: 3683 entries, 0 to 3682\n",
      "Data columns (total 4 columns):\n",
      " #   Column     Non-Null Count  Dtype \n",
      "---  ------     --------------  ----- \n",
      " 0   userId     3683 non-null   int64 \n",
      " 1   movieId    3683 non-null   int64 \n",
      " 2   tag        3683 non-null   object\n",
      " 3   timestamp  3683 non-null   int64 \n",
      "dtypes: int64(3), object(1)\n",
      "memory usage: 115.2+ KB\n"
     ]
    }
   ],
   "source": [
    "df_tags.info()"
   ]
  },
  {
   "cell_type": "code",
   "execution_count": 10,
   "metadata": {
    "ExecuteTime": {
     "end_time": "2020-09-29T02:01:43.617749Z",
     "start_time": "2020-09-29T02:01:43.611013Z"
    },
    "scrolled": true
   },
   "outputs": [
    {
     "data": {
      "text/plain": [
       "userId       False\n",
       "movieId      False\n",
       "tag          False\n",
       "timestamp    False\n",
       "dtype: bool"
      ]
     },
     "execution_count": 10,
     "metadata": {},
     "output_type": "execute_result"
    }
   ],
   "source": [
    "df_tags.isnull().any()"
   ]
  },
  {
   "cell_type": "markdown",
   "metadata": {
    "ExecuteTime": {
     "end_time": "2020-09-28T15:54:29.991221Z",
     "start_time": "2020-09-28T15:54:29.984664Z"
    }
   },
   "source": [
    "***Let's look deeper at the datasets given***<br>\n",
    "*column_name (type of column) \n",
    "    - description*\n",
    "\n",
    "\n",
    "The movies dataset contains the following columns :\n",
    "- movieId (int) \n",
    "    - A unique id for each movie\n",
    "- title (str) \n",
    "    - Name of the movie\n",
    "- genres (str) \n",
    "    - Genre/s seperated by |\n",
    "    - ***should probably use explode***\n",
    "    \n",
    "The ratings dataset contains the following columns :\n",
    "- userId (int)\n",
    "    - Unique id for each user\n",
    "- movieId (int) \n",
    "    - A unique id for each movie\n",
    "- rating (float)\n",
    "    - ratings of a movie given by a user\n",
    "    - On a 0-5 ratings\n",
    "- timestamp (int) \n",
    "    - seconds of when the ratings is posted\n",
    "\n",
    "The tags dataset contains the following columns :\n",
    "- userId (int)\n",
    "    - Unique id for each user\n",
    "- movieId (int) \n",
    "    - A unique id for each movie\n",
    "- tags (float)\n",
    "    - tags related to movie\n",
    "- timestamp (int) \n",
    "    - seconds of when the ratings is posted   \n",
    "<br>\n",
    "- No nulls rows\n",
    "\n",
    "***\n",
    "\n",
    "## Further data exploration!"
   ]
  },
  {
   "cell_type": "code",
   "execution_count": 11,
   "metadata": {
    "ExecuteTime": {
     "end_time": "2020-09-29T02:01:43.628338Z",
     "start_time": "2020-09-29T02:01:43.619319Z"
    },
    "scrolled": false
   },
   "outputs": [
    {
     "name": "stdout",
     "output_type": "stream",
     "text": [
      "There are 58 unique users\n",
      "Unique users are [  2   7  18  21  49  62  63  76 103 106 112 119 125 132 138 161 166 167\n",
      " 177 184 193 205 226 256 274 288 289 291 300 305 318 319 327 336 341 356\n",
      " 357 419 424 435 439 462 474 477 487 506 509 513 520 533 537 543 567 573\n",
      " 599 600 606 610] \n",
      "\n",
      "There are 1589 unique tags\n",
      "Unique tags are ['funny' 'Highly quotable' 'will ferrell' ... 'gun fu' 'heroic bloodshed'\n",
      " 'Heroic Bloodshed'] \n",
      "\n",
      "There are 9742 unique movie\n",
      "Unique movieId are [     1      2      3 ... 193585 193587 193609] \n",
      "\n",
      "['Big Green, The (1995)' 'Georgia (1995)' 'Home for the Holidays (1995)'\n",
      " 'Postman, The (Postino, Il) (1994)' 'Indian in the Cupboard, The (1995)'\n",
      " 'Eye for an Eye (1996)' \"Mr. Holland's Opus (1995)\"\n",
      " \"Don't Be a Menace to South Central While Drinking Your Juice in the Hood (1996)\"\n",
      " 'Two if by Sea (1996)' 'Bio-Dome (1996)'\n",
      " 'Lawnmower Man 2: Beyond Cyberspace (1996)']\n"
     ]
    }
   ],
   "source": [
    "print(f\"There are {len(df_tags.userId.unique())} unique users\")\n",
    "print(f\"Unique users are {df_tags.userId.unique()} \\n\")\n",
    "\n",
    "print(f\"There are {len(df_tags.tag.unique())} unique tags\")\n",
    "print(f\"Unique tags are {df_tags.tag.unique()} \\n\")\n",
    "\n",
    "print(f\"There are {len(df_movies.movieId.unique())} unique movie\")\n",
    "print(f\"Unique movieId are {df_movies.movieId.unique()} \\n\")\n",
    "\n",
    "print(df_movies.title.unique()[49:60])"
   ]
  },
  {
   "cell_type": "markdown",
   "metadata": {},
   "source": [
    "***Notice We want to delete year and , The in df_movie's title***"
   ]
  },
  {
   "cell_type": "code",
   "execution_count": 12,
   "metadata": {
    "ExecuteTime": {
     "end_time": "2020-09-29T02:01:43.713053Z",
     "start_time": "2020-09-29T02:01:43.629686Z"
    },
    "scrolled": false
   },
   "outputs": [
    {
     "data": {
      "text/html": [
       "<div>\n",
       "<style scoped>\n",
       "    .dataframe tbody tr th:only-of-type {\n",
       "        vertical-align: middle;\n",
       "    }\n",
       "\n",
       "    .dataframe tbody tr th {\n",
       "        vertical-align: top;\n",
       "    }\n",
       "\n",
       "    .dataframe thead th {\n",
       "        text-align: right;\n",
       "    }\n",
       "</style>\n",
       "<table border=\"1\" class=\"dataframe\">\n",
       "  <thead>\n",
       "    <tr style=\"text-align: right;\">\n",
       "      <th></th>\n",
       "      <th>movieId</th>\n",
       "      <th>title</th>\n",
       "      <th>genres</th>\n",
       "    </tr>\n",
       "  </thead>\n",
       "  <tbody>\n",
       "    <tr>\n",
       "      <th>0</th>\n",
       "      <td>1</td>\n",
       "      <td>toy story</td>\n",
       "      <td>adventure|animation|children|comedy|fantasy</td>\n",
       "    </tr>\n",
       "    <tr>\n",
       "      <th>1</th>\n",
       "      <td>2</td>\n",
       "      <td>jumanji</td>\n",
       "      <td>adventure|children|fantasy</td>\n",
       "    </tr>\n",
       "    <tr>\n",
       "      <th>2</th>\n",
       "      <td>3</td>\n",
       "      <td>grumpier old men</td>\n",
       "      <td>comedy|romance</td>\n",
       "    </tr>\n",
       "    <tr>\n",
       "      <th>3</th>\n",
       "      <td>4</td>\n",
       "      <td>waiting to exhale</td>\n",
       "      <td>comedy|drama|romance</td>\n",
       "    </tr>\n",
       "    <tr>\n",
       "      <th>4</th>\n",
       "      <td>5</td>\n",
       "      <td>father of the bride part ii</td>\n",
       "      <td>comedy</td>\n",
       "    </tr>\n",
       "  </tbody>\n",
       "</table>\n",
       "</div>"
      ],
      "text/plain": [
       "   movieId                        title  \\\n",
       "0        1                    toy story   \n",
       "1        2                      jumanji   \n",
       "2        3             grumpier old men   \n",
       "3        4            waiting to exhale   \n",
       "4        5  father of the bride part ii   \n",
       "\n",
       "                                        genres  \n",
       "0  adventure|animation|children|comedy|fantasy  \n",
       "1                   adventure|children|fantasy  \n",
       "2                               comedy|romance  \n",
       "3                         comedy|drama|romance  \n",
       "4                                       comedy  "
      ]
     },
     "execution_count": 12,
     "metadata": {},
     "output_type": "execute_result"
    }
   ],
   "source": [
    "df_movies['title'] = df_movies['title'].str.replace(r\"\\(.*?\\)\",\"\")\n",
    "df_movies['title'] = df_movies['title'].str.split(\",\").str[0]\n",
    "df_movies = df_movies.apply(lambda x: x.str.strip().str.lower() if x.dtype == \"object\" else x)\n",
    "\n",
    "df_movies.head()"
   ]
  },
  {
   "cell_type": "markdown",
   "metadata": {},
   "source": [
    "***Notice 'heroic bloodshed', 'Heroic Bloodshed' in unique tags. We have to make it all lower case***"
   ]
  },
  {
   "cell_type": "code",
   "execution_count": 13,
   "metadata": {
    "ExecuteTime": {
     "end_time": "2020-09-29T02:01:43.740471Z",
     "start_time": "2020-09-29T02:01:43.715050Z"
    },
    "scrolled": false
   },
   "outputs": [
    {
     "name": "stdout",
     "output_type": "stream",
     "text": [
      "There are 1471 unique tags\n",
      "Unique tags are ['funny' 'highly quotable' 'will ferrell' ... 'austere' 'gun fu'\n",
      " 'heroic bloodshed'] \n",
      "\n"
     ]
    }
   ],
   "source": [
    "# Remove all white spaces and change to lower case if col type is str\n",
    "df_tags = df_tags.apply(lambda x: x.str.strip().str.lower() if x.dtype == \"object\" else x)\n",
    "\n",
    "# remove punctutations\n",
    "df_tags['tag'] = df_tags['tag'].apply(lambda x: sub(r'[^\\w\\s]','', x))\n",
    "# remove non-ascii\n",
    "df_tags['tag'] = df_tags['tag'].apply(lambda x: ''.join([\" \" if ord(i) < 32 or ord(i) > 126 else i for i in str(x)]))\n",
    " \n",
    "print(f\"There are {len(df_tags.tag.unique())} unique tags\")\n",
    "print(f\"Unique tags are {df_tags.tag.unique()} \\n\")\n",
    "\n",
    "df_ratings = df_ratings.apply(lambda x: x.str.strip().str.lower() if x.dtype == \"object\" else x)"
   ]
  },
  {
   "cell_type": "markdown",
   "metadata": {
    "ExecuteTime": {
     "end_time": "2020-09-28T22:07:41.001937Z",
     "start_time": "2020-09-28T22:07:40.997869Z"
    }
   },
   "source": [
    "***Delete the useless timestamp columns***"
   ]
  },
  {
   "cell_type": "code",
   "execution_count": 14,
   "metadata": {
    "ExecuteTime": {
     "end_time": "2020-09-29T02:01:43.750654Z",
     "start_time": "2020-09-29T02:01:43.742377Z"
    }
   },
   "outputs": [],
   "source": [
    "# Data cleaning\n",
    "df_ratings.drop(\"timestamp\", axis=1, inplace=True)\n",
    "df_tags.drop(\"timestamp\", axis=1, inplace=True)"
   ]
  },
  {
   "cell_type": "markdown",
   "metadata": {},
   "source": [
    "***Instead of making 20 new cols (explode will seperate each unique value to one col), we save them to a list***<br>\n",
    "   First,Split the | to new columns"
   ]
  },
  {
   "cell_type": "code",
   "execution_count": 15,
   "metadata": {
    "ExecuteTime": {
     "end_time": "2020-09-29T02:01:43.791525Z",
     "start_time": "2020-09-29T02:01:43.752224Z"
    },
    "scrolled": true
   },
   "outputs": [
    {
     "data": {
      "text/html": [
       "<div>\n",
       "<style scoped>\n",
       "    .dataframe tbody tr th:only-of-type {\n",
       "        vertical-align: middle;\n",
       "    }\n",
       "\n",
       "    .dataframe tbody tr th {\n",
       "        vertical-align: top;\n",
       "    }\n",
       "\n",
       "    .dataframe thead th {\n",
       "        text-align: right;\n",
       "    }\n",
       "</style>\n",
       "<table border=\"1\" class=\"dataframe\">\n",
       "  <thead>\n",
       "    <tr style=\"text-align: right;\">\n",
       "      <th></th>\n",
       "      <th>0</th>\n",
       "      <th>1</th>\n",
       "      <th>2</th>\n",
       "      <th>3</th>\n",
       "      <th>4</th>\n",
       "      <th>5</th>\n",
       "      <th>6</th>\n",
       "      <th>7</th>\n",
       "      <th>8</th>\n",
       "      <th>9</th>\n",
       "    </tr>\n",
       "    <tr>\n",
       "      <th>movieId</th>\n",
       "      <th></th>\n",
       "      <th></th>\n",
       "      <th></th>\n",
       "      <th></th>\n",
       "      <th></th>\n",
       "      <th></th>\n",
       "      <th></th>\n",
       "      <th></th>\n",
       "      <th></th>\n",
       "      <th></th>\n",
       "    </tr>\n",
       "  </thead>\n",
       "  <tbody>\n",
       "    <tr>\n",
       "      <th>1</th>\n",
       "      <td>adventure</td>\n",
       "      <td>animation</td>\n",
       "      <td>children</td>\n",
       "      <td>comedy</td>\n",
       "      <td>fantasy</td>\n",
       "      <td>None</td>\n",
       "      <td>None</td>\n",
       "      <td>None</td>\n",
       "      <td>None</td>\n",
       "      <td>None</td>\n",
       "    </tr>\n",
       "    <tr>\n",
       "      <th>2</th>\n",
       "      <td>adventure</td>\n",
       "      <td>children</td>\n",
       "      <td>fantasy</td>\n",
       "      <td>None</td>\n",
       "      <td>None</td>\n",
       "      <td>None</td>\n",
       "      <td>None</td>\n",
       "      <td>None</td>\n",
       "      <td>None</td>\n",
       "      <td>None</td>\n",
       "    </tr>\n",
       "    <tr>\n",
       "      <th>3</th>\n",
       "      <td>comedy</td>\n",
       "      <td>romance</td>\n",
       "      <td>None</td>\n",
       "      <td>None</td>\n",
       "      <td>None</td>\n",
       "      <td>None</td>\n",
       "      <td>None</td>\n",
       "      <td>None</td>\n",
       "      <td>None</td>\n",
       "      <td>None</td>\n",
       "    </tr>\n",
       "    <tr>\n",
       "      <th>4</th>\n",
       "      <td>comedy</td>\n",
       "      <td>drama</td>\n",
       "      <td>romance</td>\n",
       "      <td>None</td>\n",
       "      <td>None</td>\n",
       "      <td>None</td>\n",
       "      <td>None</td>\n",
       "      <td>None</td>\n",
       "      <td>None</td>\n",
       "      <td>None</td>\n",
       "    </tr>\n",
       "    <tr>\n",
       "      <th>5</th>\n",
       "      <td>comedy</td>\n",
       "      <td>None</td>\n",
       "      <td>None</td>\n",
       "      <td>None</td>\n",
       "      <td>None</td>\n",
       "      <td>None</td>\n",
       "      <td>None</td>\n",
       "      <td>None</td>\n",
       "      <td>None</td>\n",
       "      <td>None</td>\n",
       "    </tr>\n",
       "  </tbody>\n",
       "</table>\n",
       "</div>"
      ],
      "text/plain": [
       "                 0          1         2       3        4     5     6     7  \\\n",
       "movieId                                                                      \n",
       "1        adventure  animation  children  comedy  fantasy  None  None  None   \n",
       "2        adventure   children   fantasy    None     None  None  None  None   \n",
       "3           comedy    romance      None    None     None  None  None  None   \n",
       "4           comedy      drama   romance    None     None  None  None  None   \n",
       "5           comedy       None      None    None     None  None  None  None   \n",
       "\n",
       "            8     9  \n",
       "movieId              \n",
       "1        None  None  \n",
       "2        None  None  \n",
       "3        None  None  \n",
       "4        None  None  \n",
       "5        None  None  "
      ]
     },
     "execution_count": 15,
     "metadata": {},
     "output_type": "execute_result"
    }
   ],
   "source": [
    "df_genre_vector = df_movies.set_index('movieId')\n",
    "df_genre_vector= df_genre_vector[\"genres\"].str.split(\"|\", expand=True)\n",
    "\n",
    "df_genre_vector.head()"
   ]
  },
  {
   "cell_type": "markdown",
   "metadata": {},
   "source": [
    "Convert the horizontal values to vertical by stacking them into one index"
   ]
  },
  {
   "cell_type": "code",
   "execution_count": 16,
   "metadata": {
    "ExecuteTime": {
     "end_time": "2020-09-29T02:01:43.806346Z",
     "start_time": "2020-09-29T02:01:43.793249Z"
    },
    "scrolled": false
   },
   "outputs": [
    {
     "data": {
      "text/plain": [
       "movieId   \n",
       "1        0    adventure\n",
       "         1    animation\n",
       "         2     children\n",
       "         3       comedy\n",
       "         4      fantasy\n",
       "                ...    \n",
       "193583   2      fantasy\n",
       "193585   0        drama\n",
       "193587   0       action\n",
       "         1    animation\n",
       "193609   0       comedy\n",
       "Length: 22084, dtype: object"
      ]
     },
     "execution_count": 16,
     "metadata": {},
     "output_type": "execute_result"
    }
   ],
   "source": [
    "df_genre_vector = df_genre_vector.stack()\n",
    "\n",
    "df_genre_vector"
   ]
  },
  {
   "cell_type": "markdown",
   "metadata": {},
   "source": [
    "Do one hot encoding to convert the string to numbers"
   ]
  },
  {
   "cell_type": "code",
   "execution_count": 17,
   "metadata": {
    "ExecuteTime": {
     "end_time": "2020-09-29T02:01:43.838664Z",
     "start_time": "2020-09-29T02:01:43.807586Z"
    },
    "scrolled": true
   },
   "outputs": [
    {
     "data": {
      "text/html": [
       "<div>\n",
       "<style scoped>\n",
       "    .dataframe tbody tr th:only-of-type {\n",
       "        vertical-align: middle;\n",
       "    }\n",
       "\n",
       "    .dataframe tbody tr th {\n",
       "        vertical-align: top;\n",
       "    }\n",
       "\n",
       "    .dataframe thead th {\n",
       "        text-align: right;\n",
       "    }\n",
       "</style>\n",
       "<table border=\"1\" class=\"dataframe\">\n",
       "  <thead>\n",
       "    <tr style=\"text-align: right;\">\n",
       "      <th></th>\n",
       "      <th>movieId</th>\n",
       "      <th>(no genres listed)</th>\n",
       "      <th>action</th>\n",
       "      <th>adventure</th>\n",
       "      <th>animation</th>\n",
       "      <th>children</th>\n",
       "      <th>comedy</th>\n",
       "      <th>crime</th>\n",
       "      <th>documentary</th>\n",
       "      <th>drama</th>\n",
       "      <th>...</th>\n",
       "      <th>film-noir</th>\n",
       "      <th>horror</th>\n",
       "      <th>imax</th>\n",
       "      <th>musical</th>\n",
       "      <th>mystery</th>\n",
       "      <th>romance</th>\n",
       "      <th>sci-fi</th>\n",
       "      <th>thriller</th>\n",
       "      <th>war</th>\n",
       "      <th>western</th>\n",
       "    </tr>\n",
       "  </thead>\n",
       "  <tbody>\n",
       "    <tr>\n",
       "      <th>0</th>\n",
       "      <td>1</td>\n",
       "      <td>0</td>\n",
       "      <td>0</td>\n",
       "      <td>1</td>\n",
       "      <td>1</td>\n",
       "      <td>1</td>\n",
       "      <td>1</td>\n",
       "      <td>0</td>\n",
       "      <td>0</td>\n",
       "      <td>0</td>\n",
       "      <td>...</td>\n",
       "      <td>0</td>\n",
       "      <td>0</td>\n",
       "      <td>0</td>\n",
       "      <td>0</td>\n",
       "      <td>0</td>\n",
       "      <td>0</td>\n",
       "      <td>0</td>\n",
       "      <td>0</td>\n",
       "      <td>0</td>\n",
       "      <td>0</td>\n",
       "    </tr>\n",
       "    <tr>\n",
       "      <th>1</th>\n",
       "      <td>2</td>\n",
       "      <td>0</td>\n",
       "      <td>0</td>\n",
       "      <td>1</td>\n",
       "      <td>0</td>\n",
       "      <td>1</td>\n",
       "      <td>0</td>\n",
       "      <td>0</td>\n",
       "      <td>0</td>\n",
       "      <td>0</td>\n",
       "      <td>...</td>\n",
       "      <td>0</td>\n",
       "      <td>0</td>\n",
       "      <td>0</td>\n",
       "      <td>0</td>\n",
       "      <td>0</td>\n",
       "      <td>0</td>\n",
       "      <td>0</td>\n",
       "      <td>0</td>\n",
       "      <td>0</td>\n",
       "      <td>0</td>\n",
       "    </tr>\n",
       "    <tr>\n",
       "      <th>2</th>\n",
       "      <td>3</td>\n",
       "      <td>0</td>\n",
       "      <td>0</td>\n",
       "      <td>0</td>\n",
       "      <td>0</td>\n",
       "      <td>0</td>\n",
       "      <td>1</td>\n",
       "      <td>0</td>\n",
       "      <td>0</td>\n",
       "      <td>0</td>\n",
       "      <td>...</td>\n",
       "      <td>0</td>\n",
       "      <td>0</td>\n",
       "      <td>0</td>\n",
       "      <td>0</td>\n",
       "      <td>0</td>\n",
       "      <td>1</td>\n",
       "      <td>0</td>\n",
       "      <td>0</td>\n",
       "      <td>0</td>\n",
       "      <td>0</td>\n",
       "    </tr>\n",
       "    <tr>\n",
       "      <th>3</th>\n",
       "      <td>4</td>\n",
       "      <td>0</td>\n",
       "      <td>0</td>\n",
       "      <td>0</td>\n",
       "      <td>0</td>\n",
       "      <td>0</td>\n",
       "      <td>1</td>\n",
       "      <td>0</td>\n",
       "      <td>0</td>\n",
       "      <td>1</td>\n",
       "      <td>...</td>\n",
       "      <td>0</td>\n",
       "      <td>0</td>\n",
       "      <td>0</td>\n",
       "      <td>0</td>\n",
       "      <td>0</td>\n",
       "      <td>1</td>\n",
       "      <td>0</td>\n",
       "      <td>0</td>\n",
       "      <td>0</td>\n",
       "      <td>0</td>\n",
       "    </tr>\n",
       "    <tr>\n",
       "      <th>4</th>\n",
       "      <td>5</td>\n",
       "      <td>0</td>\n",
       "      <td>0</td>\n",
       "      <td>0</td>\n",
       "      <td>0</td>\n",
       "      <td>0</td>\n",
       "      <td>1</td>\n",
       "      <td>0</td>\n",
       "      <td>0</td>\n",
       "      <td>0</td>\n",
       "      <td>...</td>\n",
       "      <td>0</td>\n",
       "      <td>0</td>\n",
       "      <td>0</td>\n",
       "      <td>0</td>\n",
       "      <td>0</td>\n",
       "      <td>0</td>\n",
       "      <td>0</td>\n",
       "      <td>0</td>\n",
       "      <td>0</td>\n",
       "      <td>0</td>\n",
       "    </tr>\n",
       "  </tbody>\n",
       "</table>\n",
       "<p>5 rows × 21 columns</p>\n",
       "</div>"
      ],
      "text/plain": [
       "   movieId  (no genres listed)  action  adventure  animation  children  \\\n",
       "0        1                   0       0          1          1         1   \n",
       "1        2                   0       0          1          0         1   \n",
       "2        3                   0       0          0          0         0   \n",
       "3        4                   0       0          0          0         0   \n",
       "4        5                   0       0          0          0         0   \n",
       "\n",
       "   comedy  crime  documentary  drama  ...  film-noir  horror  imax  musical  \\\n",
       "0       1      0            0      0  ...          0       0     0        0   \n",
       "1       0      0            0      0  ...          0       0     0        0   \n",
       "2       1      0            0      0  ...          0       0     0        0   \n",
       "3       1      0            0      1  ...          0       0     0        0   \n",
       "4       1      0            0      0  ...          0       0     0        0   \n",
       "\n",
       "   mystery  romance  sci-fi  thriller  war  western  \n",
       "0        0        0       0         0    0        0  \n",
       "1        0        0       0         0    0        0  \n",
       "2        0        1       0         0    0        0  \n",
       "3        0        1       0         0    0        0  \n",
       "4        0        0       0         0    0        0  \n",
       "\n",
       "[5 rows x 21 columns]"
      ]
     },
     "execution_count": 17,
     "metadata": {},
     "output_type": "execute_result"
    }
   ],
   "source": [
    "df_genre_vector = get_dummies(df_genre_vector).groupby(level = 0).sum().reset_index()\n",
    "\n",
    "df_genre_vector.head()"
   ]
  },
  {
   "cell_type": "code",
   "execution_count": 18,
   "metadata": {
    "ExecuteTime": {
     "end_time": "2020-09-29T02:01:43.860025Z",
     "start_time": "2020-09-29T02:01:43.840437Z"
    },
    "scrolled": false
   },
   "outputs": [
    {
     "data": {
      "text/html": [
       "<div>\n",
       "<style scoped>\n",
       "    .dataframe tbody tr th:only-of-type {\n",
       "        vertical-align: middle;\n",
       "    }\n",
       "\n",
       "    .dataframe tbody tr th {\n",
       "        vertical-align: top;\n",
       "    }\n",
       "\n",
       "    .dataframe thead th {\n",
       "        text-align: right;\n",
       "    }\n",
       "</style>\n",
       "<table border=\"1\" class=\"dataframe\">\n",
       "  <thead>\n",
       "    <tr style=\"text-align: right;\">\n",
       "      <th></th>\n",
       "      <th>movieId</th>\n",
       "      <th>title</th>\n",
       "      <th>genre_vector</th>\n",
       "    </tr>\n",
       "  </thead>\n",
       "  <tbody>\n",
       "    <tr>\n",
       "      <th>0</th>\n",
       "      <td>1</td>\n",
       "      <td>toy story</td>\n",
       "      <td>[0, 0, 1, 1, 1, 1, 0, 0, 0, 1, 0, 0, 0, 0, 0, ...</td>\n",
       "    </tr>\n",
       "    <tr>\n",
       "      <th>1</th>\n",
       "      <td>2</td>\n",
       "      <td>jumanji</td>\n",
       "      <td>[0, 0, 1, 0, 1, 0, 0, 0, 0, 1, 0, 0, 0, 0, 0, ...</td>\n",
       "    </tr>\n",
       "    <tr>\n",
       "      <th>2</th>\n",
       "      <td>3</td>\n",
       "      <td>grumpier old men</td>\n",
       "      <td>[0, 0, 0, 0, 0, 1, 0, 0, 0, 0, 0, 0, 0, 0, 0, ...</td>\n",
       "    </tr>\n",
       "    <tr>\n",
       "      <th>3</th>\n",
       "      <td>4</td>\n",
       "      <td>waiting to exhale</td>\n",
       "      <td>[0, 0, 0, 0, 0, 1, 0, 0, 1, 0, 0, 0, 0, 0, 0, ...</td>\n",
       "    </tr>\n",
       "    <tr>\n",
       "      <th>4</th>\n",
       "      <td>5</td>\n",
       "      <td>father of the bride part ii</td>\n",
       "      <td>[0, 0, 0, 0, 0, 1, 0, 0, 0, 0, 0, 0, 0, 0, 0, ...</td>\n",
       "    </tr>\n",
       "  </tbody>\n",
       "</table>\n",
       "</div>"
      ],
      "text/plain": [
       "   movieId                        title  \\\n",
       "0        1                    toy story   \n",
       "1        2                      jumanji   \n",
       "2        3             grumpier old men   \n",
       "3        4            waiting to exhale   \n",
       "4        5  father of the bride part ii   \n",
       "\n",
       "                                        genre_vector  \n",
       "0  [0, 0, 1, 1, 1, 1, 0, 0, 0, 1, 0, 0, 0, 0, 0, ...  \n",
       "1  [0, 0, 1, 0, 1, 0, 0, 0, 0, 1, 0, 0, 0, 0, 0, ...  \n",
       "2  [0, 0, 0, 0, 0, 1, 0, 0, 0, 0, 0, 0, 0, 0, 0, ...  \n",
       "3  [0, 0, 0, 0, 0, 1, 0, 0, 1, 0, 0, 0, 0, 0, 0, ...  \n",
       "4  [0, 0, 0, 0, 0, 1, 0, 0, 0, 0, 0, 0, 0, 0, 0, ...  "
      ]
     },
     "execution_count": 18,
     "metadata": {},
     "output_type": "execute_result"
    }
   ],
   "source": [
    "df_movies[\"genre_vector\"] = df_genre_vector.iloc[:, 1:].values.tolist()\n",
    "del df_movies[\"genres\"]\n",
    "df_movies.head()"
   ]
  },
  {
   "cell_type": "markdown",
   "metadata": {},
   "source": [
    "***Combine tags with same userid and movieid into one row and Save to list***"
   ]
  },
  {
   "cell_type": "code",
   "execution_count": 19,
   "metadata": {
    "ExecuteTime": {
     "end_time": "2020-09-29T02:01:43.869650Z",
     "start_time": "2020-09-29T02:01:43.861651Z"
    },
    "scrolled": true
   },
   "outputs": [
    {
     "data": {
      "text/html": [
       "<div>\n",
       "<style scoped>\n",
       "    .dataframe tbody tr th:only-of-type {\n",
       "        vertical-align: middle;\n",
       "    }\n",
       "\n",
       "    .dataframe tbody tr th {\n",
       "        vertical-align: top;\n",
       "    }\n",
       "\n",
       "    .dataframe thead th {\n",
       "        text-align: right;\n",
       "    }\n",
       "</style>\n",
       "<table border=\"1\" class=\"dataframe\">\n",
       "  <thead>\n",
       "    <tr style=\"text-align: right;\">\n",
       "      <th></th>\n",
       "      <th>userId</th>\n",
       "      <th>movieId</th>\n",
       "      <th>tag</th>\n",
       "    </tr>\n",
       "  </thead>\n",
       "  <tbody>\n",
       "    <tr>\n",
       "      <th>0</th>\n",
       "      <td>2</td>\n",
       "      <td>60756</td>\n",
       "      <td>funny</td>\n",
       "    </tr>\n",
       "    <tr>\n",
       "      <th>1</th>\n",
       "      <td>2</td>\n",
       "      <td>60756</td>\n",
       "      <td>highly quotable</td>\n",
       "    </tr>\n",
       "    <tr>\n",
       "      <th>2</th>\n",
       "      <td>2</td>\n",
       "      <td>60756</td>\n",
       "      <td>will ferrell</td>\n",
       "    </tr>\n",
       "    <tr>\n",
       "      <th>3</th>\n",
       "      <td>2</td>\n",
       "      <td>89774</td>\n",
       "      <td>boxing story</td>\n",
       "    </tr>\n",
       "    <tr>\n",
       "      <th>4</th>\n",
       "      <td>2</td>\n",
       "      <td>89774</td>\n",
       "      <td>mma</td>\n",
       "    </tr>\n",
       "  </tbody>\n",
       "</table>\n",
       "</div>"
      ],
      "text/plain": [
       "   userId  movieId              tag\n",
       "0       2    60756            funny\n",
       "1       2    60756  highly quotable\n",
       "2       2    60756     will ferrell\n",
       "3       2    89774     boxing story\n",
       "4       2    89774              mma"
      ]
     },
     "execution_count": 19,
     "metadata": {},
     "output_type": "execute_result"
    }
   ],
   "source": [
    "df_tags.head()"
   ]
  },
  {
   "cell_type": "markdown",
   "metadata": {},
   "source": [
    "First, we have to group them according to the same userid and movieid to combine the tag to one row"
   ]
  },
  {
   "cell_type": "code",
   "execution_count": 20,
   "metadata": {
    "ExecuteTime": {
     "end_time": "2020-09-29T02:01:43.931701Z",
     "start_time": "2020-09-29T02:01:43.871753Z"
    },
    "scrolled": false
   },
   "outputs": [
    {
     "data": {
      "text/html": [
       "<div>\n",
       "<style scoped>\n",
       "    .dataframe tbody tr th:only-of-type {\n",
       "        vertical-align: middle;\n",
       "    }\n",
       "\n",
       "    .dataframe tbody tr th {\n",
       "        vertical-align: top;\n",
       "    }\n",
       "\n",
       "    .dataframe thead th {\n",
       "        text-align: right;\n",
       "    }\n",
       "</style>\n",
       "<table border=\"1\" class=\"dataframe\">\n",
       "  <thead>\n",
       "    <tr style=\"text-align: right;\">\n",
       "      <th></th>\n",
       "      <th>userId</th>\n",
       "      <th>movieId</th>\n",
       "      <th>tag</th>\n",
       "    </tr>\n",
       "  </thead>\n",
       "  <tbody>\n",
       "    <tr>\n",
       "      <th>0</th>\n",
       "      <td>2</td>\n",
       "      <td>60756</td>\n",
       "      <td>funny,highly quotable,will ferrell</td>\n",
       "    </tr>\n",
       "    <tr>\n",
       "      <th>1</th>\n",
       "      <td>2</td>\n",
       "      <td>89774</td>\n",
       "      <td>boxing story,mma,tom hardy</td>\n",
       "    </tr>\n",
       "    <tr>\n",
       "      <th>2</th>\n",
       "      <td>2</td>\n",
       "      <td>106782</td>\n",
       "      <td>drugs,leonardo dicaprio,martin scorsese</td>\n",
       "    </tr>\n",
       "    <tr>\n",
       "      <th>3</th>\n",
       "      <td>7</td>\n",
       "      <td>48516</td>\n",
       "      <td>way too long</td>\n",
       "    </tr>\n",
       "    <tr>\n",
       "      <th>4</th>\n",
       "      <td>18</td>\n",
       "      <td>431</td>\n",
       "      <td>al pacino,gangster,mafia</td>\n",
       "    </tr>\n",
       "    <tr>\n",
       "      <th>...</th>\n",
       "      <td>...</td>\n",
       "      <td>...</td>\n",
       "      <td>...</td>\n",
       "    </tr>\n",
       "    <tr>\n",
       "      <th>1770</th>\n",
       "      <td>606</td>\n",
       "      <td>6107</td>\n",
       "      <td>world war ii</td>\n",
       "    </tr>\n",
       "    <tr>\n",
       "      <th>1771</th>\n",
       "      <td>606</td>\n",
       "      <td>7382</td>\n",
       "      <td>for katie</td>\n",
       "    </tr>\n",
       "    <tr>\n",
       "      <th>1772</th>\n",
       "      <td>606</td>\n",
       "      <td>7936</td>\n",
       "      <td>austere</td>\n",
       "    </tr>\n",
       "    <tr>\n",
       "      <th>1773</th>\n",
       "      <td>610</td>\n",
       "      <td>3265</td>\n",
       "      <td>gun fu,heroic bloodshed</td>\n",
       "    </tr>\n",
       "    <tr>\n",
       "      <th>1774</th>\n",
       "      <td>610</td>\n",
       "      <td>168248</td>\n",
       "      <td>heroic bloodshed</td>\n",
       "    </tr>\n",
       "  </tbody>\n",
       "</table>\n",
       "<p>1775 rows × 3 columns</p>\n",
       "</div>"
      ],
      "text/plain": [
       "      userId  movieId                                      tag\n",
       "0          2    60756       funny,highly quotable,will ferrell\n",
       "1          2    89774               boxing story,mma,tom hardy\n",
       "2          2   106782  drugs,leonardo dicaprio,martin scorsese\n",
       "3          7    48516                             way too long\n",
       "4         18      431                 al pacino,gangster,mafia\n",
       "...      ...      ...                                      ...\n",
       "1770     606     6107                             world war ii\n",
       "1771     606     7382                                for katie\n",
       "1772     606     7936                                  austere\n",
       "1773     610     3265                  gun fu,heroic bloodshed\n",
       "1774     610   168248                         heroic bloodshed\n",
       "\n",
       "[1775 rows x 3 columns]"
      ]
     },
     "execution_count": 20,
     "metadata": {},
     "output_type": "execute_result"
    }
   ],
   "source": [
    "df_grouped_tags = df_tags.groupby([\"userId\",\"movieId\"])\n",
    "df_grouped_tags = df_grouped_tags[\"tag\"].apply(lambda x: \",\".join(x)).reset_index()\n",
    "\n",
    "df_grouped_tags"
   ]
  },
  {
   "cell_type": "code",
   "execution_count": 21,
   "metadata": {
    "ExecuteTime": {
     "end_time": "2020-09-29T02:01:43.947271Z",
     "start_time": "2020-09-29T02:01:43.933740Z"
    },
    "scrolled": false
   },
   "outputs": [
    {
     "data": {
      "text/html": [
       "<div>\n",
       "<style scoped>\n",
       "    .dataframe tbody tr th:only-of-type {\n",
       "        vertical-align: middle;\n",
       "    }\n",
       "\n",
       "    .dataframe tbody tr th {\n",
       "        vertical-align: top;\n",
       "    }\n",
       "\n",
       "    .dataframe thead th {\n",
       "        text-align: right;\n",
       "    }\n",
       "</style>\n",
       "<table border=\"1\" class=\"dataframe\">\n",
       "  <thead>\n",
       "    <tr style=\"text-align: right;\">\n",
       "      <th></th>\n",
       "      <th>userId</th>\n",
       "      <th>movieId</th>\n",
       "      <th>tag</th>\n",
       "    </tr>\n",
       "  </thead>\n",
       "  <tbody>\n",
       "    <tr>\n",
       "      <th>0</th>\n",
       "      <td>2</td>\n",
       "      <td>60756</td>\n",
       "      <td>[funny, highly quotable, will ferrell]</td>\n",
       "    </tr>\n",
       "    <tr>\n",
       "      <th>1</th>\n",
       "      <td>2</td>\n",
       "      <td>89774</td>\n",
       "      <td>[boxing story, mma, tom hardy]</td>\n",
       "    </tr>\n",
       "    <tr>\n",
       "      <th>2</th>\n",
       "      <td>2</td>\n",
       "      <td>106782</td>\n",
       "      <td>[drugs, leonardo dicaprio, martin scorsese]</td>\n",
       "    </tr>\n",
       "    <tr>\n",
       "      <th>3</th>\n",
       "      <td>7</td>\n",
       "      <td>48516</td>\n",
       "      <td>[way too long]</td>\n",
       "    </tr>\n",
       "    <tr>\n",
       "      <th>4</th>\n",
       "      <td>18</td>\n",
       "      <td>431</td>\n",
       "      <td>[al pacino, gangster, mafia]</td>\n",
       "    </tr>\n",
       "    <tr>\n",
       "      <th>...</th>\n",
       "      <td>...</td>\n",
       "      <td>...</td>\n",
       "      <td>...</td>\n",
       "    </tr>\n",
       "    <tr>\n",
       "      <th>1770</th>\n",
       "      <td>606</td>\n",
       "      <td>6107</td>\n",
       "      <td>[world war ii]</td>\n",
       "    </tr>\n",
       "    <tr>\n",
       "      <th>1771</th>\n",
       "      <td>606</td>\n",
       "      <td>7382</td>\n",
       "      <td>[for katie]</td>\n",
       "    </tr>\n",
       "    <tr>\n",
       "      <th>1772</th>\n",
       "      <td>606</td>\n",
       "      <td>7936</td>\n",
       "      <td>[austere]</td>\n",
       "    </tr>\n",
       "    <tr>\n",
       "      <th>1773</th>\n",
       "      <td>610</td>\n",
       "      <td>3265</td>\n",
       "      <td>[gun fu, heroic bloodshed]</td>\n",
       "    </tr>\n",
       "    <tr>\n",
       "      <th>1774</th>\n",
       "      <td>610</td>\n",
       "      <td>168248</td>\n",
       "      <td>[heroic bloodshed]</td>\n",
       "    </tr>\n",
       "  </tbody>\n",
       "</table>\n",
       "<p>1775 rows × 3 columns</p>\n",
       "</div>"
      ],
      "text/plain": [
       "      userId  movieId                                          tag\n",
       "0          2    60756       [funny, highly quotable, will ferrell]\n",
       "1          2    89774               [boxing story, mma, tom hardy]\n",
       "2          2   106782  [drugs, leonardo dicaprio, martin scorsese]\n",
       "3          7    48516                               [way too long]\n",
       "4         18      431                 [al pacino, gangster, mafia]\n",
       "...      ...      ...                                          ...\n",
       "1770     606     6107                               [world war ii]\n",
       "1771     606     7382                                  [for katie]\n",
       "1772     606     7936                                    [austere]\n",
       "1773     610     3265                   [gun fu, heroic bloodshed]\n",
       "1774     610   168248                           [heroic bloodshed]\n",
       "\n",
       "[1775 rows x 3 columns]"
      ]
     },
     "execution_count": 21,
     "metadata": {},
     "output_type": "execute_result"
    }
   ],
   "source": [
    "df_grouped_tags['tag'] = df_grouped_tags[\"tag\"].map(lambda x: x.split(','))\n",
    "# Replace the old dataframe with the new one\n",
    "df_tags = df_grouped_tags\n",
    "df_tags"
   ]
  },
  {
   "cell_type": "markdown",
   "metadata": {},
   "source": [
    "## Which columns to merge with? \n",
    "All three dataframe can be merge with the \"movieId\" column"
   ]
  },
  {
   "cell_type": "code",
   "execution_count": 22,
   "metadata": {
    "ExecuteTime": {
     "end_time": "2020-09-29T02:01:43.983364Z",
     "start_time": "2020-09-29T02:01:43.950748Z"
    },
    "scrolled": true
   },
   "outputs": [
    {
     "data": {
      "text/html": [
       "<div>\n",
       "<style scoped>\n",
       "    .dataframe tbody tr th:only-of-type {\n",
       "        vertical-align: middle;\n",
       "    }\n",
       "\n",
       "    .dataframe tbody tr th {\n",
       "        vertical-align: top;\n",
       "    }\n",
       "\n",
       "    .dataframe thead th {\n",
       "        text-align: right;\n",
       "    }\n",
       "</style>\n",
       "<table border=\"1\" class=\"dataframe\">\n",
       "  <thead>\n",
       "    <tr style=\"text-align: right;\">\n",
       "      <th></th>\n",
       "      <th>userId</th>\n",
       "      <th>movieId</th>\n",
       "      <th>rating</th>\n",
       "      <th>tag</th>\n",
       "    </tr>\n",
       "  </thead>\n",
       "  <tbody>\n",
       "    <tr>\n",
       "      <th>0</th>\n",
       "      <td>2</td>\n",
       "      <td>60756</td>\n",
       "      <td>5.0</td>\n",
       "      <td>[funny, highly quotable, will ferrell]</td>\n",
       "    </tr>\n",
       "    <tr>\n",
       "      <th>1</th>\n",
       "      <td>2</td>\n",
       "      <td>89774</td>\n",
       "      <td>5.0</td>\n",
       "      <td>[boxing story, mma, tom hardy]</td>\n",
       "    </tr>\n",
       "    <tr>\n",
       "      <th>2</th>\n",
       "      <td>2</td>\n",
       "      <td>106782</td>\n",
       "      <td>5.0</td>\n",
       "      <td>[drugs, leonardo dicaprio, martin scorsese]</td>\n",
       "    </tr>\n",
       "    <tr>\n",
       "      <th>3</th>\n",
       "      <td>7</td>\n",
       "      <td>48516</td>\n",
       "      <td>1.0</td>\n",
       "      <td>[way too long]</td>\n",
       "    </tr>\n",
       "    <tr>\n",
       "      <th>4</th>\n",
       "      <td>18</td>\n",
       "      <td>431</td>\n",
       "      <td>4.0</td>\n",
       "      <td>[al pacino, gangster, mafia]</td>\n",
       "    </tr>\n",
       "  </tbody>\n",
       "</table>\n",
       "</div>"
      ],
      "text/plain": [
       "   userId  movieId  rating                                          tag\n",
       "0       2    60756     5.0       [funny, highly quotable, will ferrell]\n",
       "1       2    89774     5.0               [boxing story, mma, tom hardy]\n",
       "2       2   106782     5.0  [drugs, leonardo dicaprio, martin scorsese]\n",
       "3       7    48516     1.0                               [way too long]\n",
       "4      18      431     4.0                 [al pacino, gangster, mafia]"
      ]
     },
     "execution_count": 22,
     "metadata": {},
     "output_type": "execute_result"
    }
   ],
   "source": [
    "df = df_ratings.merge(df_tags, on=[\"userId\",\"movieId\"], how=\"inner\")\n",
    "df.head()"
   ]
  },
  {
   "cell_type": "code",
   "execution_count": 23,
   "metadata": {
    "ExecuteTime": {
     "end_time": "2020-09-29T02:01:44.005587Z",
     "start_time": "2020-09-29T02:01:43.986650Z"
    },
    "scrolled": true
   },
   "outputs": [
    {
     "data": {
      "text/html": [
       "<div>\n",
       "<style scoped>\n",
       "    .dataframe tbody tr th:only-of-type {\n",
       "        vertical-align: middle;\n",
       "    }\n",
       "\n",
       "    .dataframe tbody tr th {\n",
       "        vertical-align: top;\n",
       "    }\n",
       "\n",
       "    .dataframe thead th {\n",
       "        text-align: right;\n",
       "    }\n",
       "</style>\n",
       "<table border=\"1\" class=\"dataframe\">\n",
       "  <thead>\n",
       "    <tr style=\"text-align: right;\">\n",
       "      <th></th>\n",
       "      <th>userId</th>\n",
       "      <th>movieId</th>\n",
       "      <th>rating</th>\n",
       "      <th>tag</th>\n",
       "      <th>title</th>\n",
       "      <th>genre_vector</th>\n",
       "    </tr>\n",
       "  </thead>\n",
       "  <tbody>\n",
       "    <tr>\n",
       "      <th>1630</th>\n",
       "      <td>606</td>\n",
       "      <td>1357</td>\n",
       "      <td>4.0</td>\n",
       "      <td>[music]</td>\n",
       "      <td>shine</td>\n",
       "      <td>[0, 0, 0, 0, 0, 0, 0, 0, 1, 0, 0, 0, 0, 0, 0, ...</td>\n",
       "    </tr>\n",
       "    <tr>\n",
       "      <th>1631</th>\n",
       "      <td>606</td>\n",
       "      <td>1948</td>\n",
       "      <td>3.5</td>\n",
       "      <td>[british]</td>\n",
       "      <td>tom jones</td>\n",
       "      <td>[0, 0, 1, 0, 0, 1, 0, 0, 0, 0, 0, 0, 0, 0, 0, ...</td>\n",
       "    </tr>\n",
       "    <tr>\n",
       "      <th>1632</th>\n",
       "      <td>606</td>\n",
       "      <td>5694</td>\n",
       "      <td>3.0</td>\n",
       "      <td>[70mm]</td>\n",
       "      <td>staying alive</td>\n",
       "      <td>[0, 0, 0, 0, 0, 1, 0, 0, 1, 0, 0, 0, 0, 1, 0, ...</td>\n",
       "    </tr>\n",
       "    <tr>\n",
       "      <th>1633</th>\n",
       "      <td>606</td>\n",
       "      <td>6107</td>\n",
       "      <td>4.0</td>\n",
       "      <td>[world war ii]</td>\n",
       "      <td>night of the shooting stars</td>\n",
       "      <td>[0, 0, 0, 0, 0, 0, 0, 0, 1, 0, 0, 0, 0, 0, 0, ...</td>\n",
       "    </tr>\n",
       "    <tr>\n",
       "      <th>1634</th>\n",
       "      <td>610</td>\n",
       "      <td>3265</td>\n",
       "      <td>5.0</td>\n",
       "      <td>[gun fu, heroic bloodshed]</td>\n",
       "      <td>hard-boiled</td>\n",
       "      <td>[0, 1, 0, 0, 0, 0, 1, 0, 1, 0, 0, 0, 0, 0, 0, ...</td>\n",
       "    </tr>\n",
       "  </tbody>\n",
       "</table>\n",
       "</div>"
      ],
      "text/plain": [
       "      userId  movieId  rating                         tag  \\\n",
       "1630     606     1357     4.0                     [music]   \n",
       "1631     606     1948     3.5                   [british]   \n",
       "1632     606     5694     3.0                      [70mm]   \n",
       "1633     606     6107     4.0              [world war ii]   \n",
       "1634     610     3265     5.0  [gun fu, heroic bloodshed]   \n",
       "\n",
       "                            title  \\\n",
       "1630                        shine   \n",
       "1631                    tom jones   \n",
       "1632                staying alive   \n",
       "1633  night of the shooting stars   \n",
       "1634                  hard-boiled   \n",
       "\n",
       "                                           genre_vector  \n",
       "1630  [0, 0, 0, 0, 0, 0, 0, 0, 1, 0, 0, 0, 0, 0, 0, ...  \n",
       "1631  [0, 0, 1, 0, 0, 1, 0, 0, 0, 0, 0, 0, 0, 0, 0, ...  \n",
       "1632  [0, 0, 0, 0, 0, 1, 0, 0, 1, 0, 0, 0, 0, 1, 0, ...  \n",
       "1633  [0, 0, 0, 0, 0, 0, 0, 0, 1, 0, 0, 0, 0, 0, 0, ...  \n",
       "1634  [0, 1, 0, 0, 0, 0, 1, 0, 1, 0, 0, 0, 0, 0, 0, ...  "
      ]
     },
     "execution_count": 23,
     "metadata": {},
     "output_type": "execute_result"
    }
   ],
   "source": [
    "df = df.merge(df_movies, on=[\"movieId\"], how=\"inner\")\n",
    "df.reset_index(drop=True, inplace=True)\n",
    "df.tail()"
   ]
  },
  {
   "cell_type": "code",
   "execution_count": 24,
   "metadata": {
    "ExecuteTime": {
     "end_time": "2020-09-29T02:01:45.413935Z",
     "start_time": "2020-09-29T02:01:44.007229Z"
    }
   },
   "outputs": [],
   "source": [
    "def clean_and_tokenize(doc: list):\n",
    "    \n",
    "    values_inside_list = \" \".join(doc)\n",
    "    # Seperate \"Hello world\" to [\"Hello\", \"world\"]\n",
    "    tokens = word_tokenize(values_inside_list.lower())\n",
    "    # Remove tokens that is not alpha and not a stop word\n",
    "    tokens = [word for word in tokens if word.isalpha() and not word in stopwords.words('english')]\n",
    "    return tokens\n",
    "\n",
    "tagged_docs = []\n",
    "for index, list_of_words in enumerate(df.tag.values):\n",
    "    temp_tagged_document = TaggedDocument(clean_and_tokenize(list_of_words), tags=[index])\n",
    "    tagged_docs.append(temp_tagged_document)"
   ]
  },
  {
   "cell_type": "markdown",
   "metadata": {},
   "source": [
    "## Let's make our doc2vec model"
   ]
  },
  {
   "cell_type": "code",
   "execution_count": 25,
   "metadata": {
    "ExecuteTime": {
     "end_time": "2020-09-29T02:01:45.876454Z",
     "start_time": "2020-09-29T02:01:45.415045Z"
    }
   },
   "outputs": [],
   "source": [
    "max_epochs = 50\n",
    "vec_size = 20\n",
    "alpha = 0.025\n",
    "min_alpha = 0.00025\n",
    "min_count = 1\n",
    "dm = 0 # If dm=0, distributed bag of words (PV-DBOW) is used; if dm=1,‘distributed memory’ (PV-DM) is used\n",
    "\n",
    "doc2vec_model = Doc2Vec(vector_size=vec_size, alpha=alpha, min_alpha=min_alpha, min_count=min_count, dm=dm) \n",
    "doc2vec_model.build_vocab(tagged_docs)"
   ]
  },
  {
   "cell_type": "markdown",
   "metadata": {},
   "source": [
    "## Train our doc2vec model with max_epochs (50)"
   ]
  },
  {
   "cell_type": "code",
   "execution_count": 26,
   "metadata": {
    "ExecuteTime": {
     "end_time": "2020-09-29T02:01:51.108858Z",
     "start_time": "2020-09-29T02:01:45.877797Z"
    },
    "scrolled": true
   },
   "outputs": [],
   "source": [
    "for epoch in range(max_epochs):\n",
    "    doc2vec_model.train(tagged_docs, \n",
    "                        total_examples = doc2vec_model.corpus_count, \n",
    "                        epochs = doc2vec_model.epochs)\n",
    "    # Reduce the alpa to try to reduce the model learning rate\n",
    "    doc2vec_model.alpha -= 0.0002\n",
    "    # No Decay as we fixed the learning rate\n",
    "    doc2vec_model.min_alpha = doc2vec_model.alpha"
   ]
  },
  {
   "cell_type": "markdown",
   "metadata": {},
   "source": [
    "# TEST OUT DOC2VEC RECOMMENDER SYSTEM\n",
    "\n",
    "***Change the list below to try***"
   ]
  },
  {
   "cell_type": "markdown",
   "metadata": {},
   "source": [
    "***We want to seperate the year from the title and delete the year after the extracting the year***"
   ]
  },
  {
   "cell_type": "code",
   "execution_count": 27,
   "metadata": {
    "ExecuteTime": {
     "end_time": "2020-09-29T02:01:51.114090Z",
     "start_time": "2020-09-29T02:01:51.110851Z"
    }
   },
   "outputs": [
    {
     "name": "stdout",
     "output_type": "stream",
     "text": [
      "User has watched this/ese movies: \n",
      "toy story\n"
     ]
    }
   ],
   "source": [
    "# Change only this line\n",
    "movie_that_user_has_watched = [\"toy story\"]\n",
    "\n",
    "\n",
    "print(f\"User has watched this/ese movies: \")\n",
    "print(*movie_that_user_has_watched, sep=\"\\n\")"
   ]
  },
  {
   "cell_type": "code",
   "execution_count": 29,
   "metadata": {
    "ExecuteTime": {
     "end_time": "2020-09-29T02:03:56.027801Z",
     "start_time": "2020-09-29T02:03:56.020740Z"
    },
    "scrolled": false
   },
   "outputs": [
    {
     "name": "stdout",
     "output_type": "stream",
     "text": [
      "DOC2VEC RECOMMENDER SYSTEM RECOMMENDS:\n",
      "big daddy\n",
      "bug's life\n",
      "up\n",
      "corpse bride\n",
      "turner & hooch\n",
      "toy story 2\n",
      "iron giant\n",
      "best in show\n"
     ]
    }
   ],
   "source": [
    "list_movie_index = []\n",
    "for movie in movie_that_user_has_watched:\n",
    "    df_index = df[df[\"title\"] == movie].index.values[0] \n",
    "    list_movie_index.append(df_index)\n",
    "\n",
    "\n",
    "# Use cosine similarity to find out which movie is similar\n",
    "movie_by_doc2vec = doc2vec_model.docvecs.most_similar(positive = list_movie_index , topn = 10)\n",
    "\n",
    "# Clean the output given by doc2vec\n",
    "# To make sure that there is no duplicate value\n",
    "unique_recommended_movie = set() \n",
    "for i, _ in list(set(movie_by_doc2vec)):\n",
    "    movie_name = df.loc[int(i), \"title\"]\n",
    "    if movie_name in movie_that_user_has_watched:\n",
    "        continue\n",
    "    unique_recommended_movie.add(movie_name)\n",
    "\n",
    "print(\"DOC2VEC RECOMMENDER SYSTEM RECOMMENDS:\\n\")\n",
    "print(*unique_recommended_movie, sep=\"\\n\")"
   ]
  },
  {
   "cell_type": "code",
   "execution_count": null,
   "metadata": {
    "ExecuteTime": {
     "end_time": "2020-09-28T19:09:02.066544Z",
     "start_time": "2020-09-28T19:08:59.985Z"
    }
   },
   "outputs": [],
   "source": []
  }
 ],
 "metadata": {
  "kernelspec": {
   "display_name": "Python 3",
   "language": "python",
   "name": "python3"
  },
  "language_info": {
   "codemirror_mode": {
    "name": "ipython",
    "version": 3
   },
   "file_extension": ".py",
   "mimetype": "text/x-python",
   "name": "python",
   "nbconvert_exporter": "python",
   "pygments_lexer": "ipython3",
   "version": "3.6.10"
  },
  "varInspector": {
   "cols": {
    "lenName": 16,
    "lenType": 16,
    "lenVar": 40
   },
   "kernels_config": {
    "python": {
     "delete_cmd_postfix": "",
     "delete_cmd_prefix": "del ",
     "library": "var_list.py",
     "varRefreshCmd": "print(var_dic_list())"
    },
    "r": {
     "delete_cmd_postfix": ") ",
     "delete_cmd_prefix": "rm(",
     "library": "var_list.r",
     "varRefreshCmd": "cat(var_dic_list()) "
    }
   },
   "types_to_exclude": [
    "module",
    "function",
    "builtin_function_or_method",
    "instance",
    "_Feature"
   ],
   "window_display": false
  }
 },
 "nbformat": 4,
 "nbformat_minor": 4
}
